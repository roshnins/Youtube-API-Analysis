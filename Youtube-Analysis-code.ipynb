{
 "cells": [
  {
   "cell_type": "code",
   "execution_count": 1,
   "id": "90986ff5-d003-469d-8d7a-5cfda9e90efa",
   "metadata": {},
   "outputs": [
    {
     "name": "stdout",
     "output_type": "stream",
     "text": [
      "showing info https://raw.githubusercontent.com/nltk/nltk_data/gh-pages/index.xml\n"
     ]
    },
    {
     "name": "stderr",
     "output_type": "stream",
     "text": [
      "[nltk_data] Downloading package stopwords to\n",
      "[nltk_data]     /Users/roshnisaravanan/nltk_data...\n",
      "[nltk_data]   Package stopwords is already up-to-date!\n",
      "[nltk_data] Downloading package punkt to\n",
      "[nltk_data]     /Users/roshnisaravanan/nltk_data...\n",
      "[nltk_data]   Package punkt is already up-to-date!\n"
     ]
    }
   ],
   "source": [
    "from googleapiclient.discovery import build\n",
    "from dateutil import parser\n",
    "import pandas as pd\n",
    "from IPython.display import JSON\n",
    "\n",
    "# Data viz packages\n",
    "import seaborn as sns\n",
    "import matplotlib.pyplot as plt\n",
    "import matplotlib.ticker as ticker\n",
    "\n",
    "import isodate\n",
    "# NLP\n",
    "import nltk\n",
    "import ssl\n",
    "\n",
    "\n",
    "try:\n",
    "    _create_unverified_https_context = ssl._create_unverified_context\n",
    "except AttributeError:\n",
    "    pass\n",
    "else:\n",
    "    ssl._create_default_https_context = _create_unverified_https_context\n",
    "\n",
    "nltk.download()\n",
    "\n",
    "from nltk.corpus import stopwords\n",
    "from nltk.tokenize import word_tokenize\n",
    "nltk.download('stopwords')\n",
    "nltk.download('punkt')\n",
    "from wordcloud import WordCloud\n",
    "\n",
    "#from lib import helpers"
   ]
  },
  {
   "cell_type": "code",
   "execution_count": 2,
   "id": "59f14f8e-b7e6-4a92-9d95-aa0da647087d",
   "metadata": {},
   "outputs": [],
   "source": [
    "api_key = ''"
   ]
  },
  {
   "cell_type": "code",
   "execution_count": 3,
   "id": "2dc2614a-3d81-4971-b879-da9af97b7d0c",
   "metadata": {},
   "outputs": [],
   "source": [
    "channel_ids = ['UCtYLUTtgS3k1Fg4y5tAhLbw', # Statquest\n",
    "               'UCCezIgC97PvUuR4_gbFUs5g', # Corey Schafer\n",
    "               'UCfzlCWGWYyIQ0aLC5w48gBQ', # Sentdex\n",
    "               'UCNU_lfiiWBdtULKOw6X0Dig', # Krish Naik\n",
    "               'UCzL_0nIe8B4-7ShhVPfJkgw', # DatascienceDoJo\n",
    "               'UCLLw7jmFsvfIVaUFsLs8mlQ', # Luke Barousse \n",
    "               'UCiT9RITQ9PW6BhXK0y2jaeg', # Ken Jee\n",
    "               'UC7cs8q-gJRlGwj4A8OmCmXg', # Alex the analyst\n",
    "               'UC2UXDak6o7rBm23k3Vv5dww', # Tina Huang\n",
    "              ]"
   ]
  },
  {
   "cell_type": "code",
   "execution_count": 4,
   "id": "e995acb8-7b47-4b3b-9cae-48232ac64f45",
   "metadata": {},
   "outputs": [
    {
     "data": {
      "application/json": {
       "etag": "rjQ0wzYxrkfDzJDd7j92xCeNu1g",
       "items": [
        {
         "contentDetails": {
          "relatedPlaylists": {
           "likes": "",
           "uploads": "UULLw7jmFsvfIVaUFsLs8mlQ"
          }
         },
         "etag": "eR73BzcmA0Ltv3KSRTP5kFM0Fk4",
         "id": "UCLLw7jmFsvfIVaUFsLs8mlQ",
         "kind": "youtube#channel",
         "snippet": {
          "country": "US",
          "customUrl": "@lukebarousse",
          "description": "What's up, Data Nerds! I'm Luke, a data analyst, and I make videos about tech and skills for data science.\n\nIf you have a question about becoming a data analyst, drop a comment in any video. No need to email, as I answer all comments!\n\n\n",
          "localized": {
           "description": "What's up, Data Nerds! I'm Luke, a data analyst, and I make videos about tech and skills for data science.\n\nIf you have a question about becoming a data analyst, drop a comment in any video. No need to email, as I answer all comments!\n\n\n",
           "title": "Luke Barousse"
          },
          "publishedAt": "2020-08-03T09:02:41.213077Z",
          "thumbnails": {
           "default": {
            "height": 88,
            "url": "https://yt3.ggpht.com/ytc/AMLnZu9lJT9lM8x8UaWVSxluyO8b8uKGz3i_ORyWxDk9=s88-c-k-c0x00ffffff-no-rj",
            "width": 88
           },
           "high": {
            "height": 800,
            "url": "https://yt3.ggpht.com/ytc/AMLnZu9lJT9lM8x8UaWVSxluyO8b8uKGz3i_ORyWxDk9=s800-c-k-c0x00ffffff-no-rj",
            "width": 800
           },
           "medium": {
            "height": 240,
            "url": "https://yt3.ggpht.com/ytc/AMLnZu9lJT9lM8x8UaWVSxluyO8b8uKGz3i_ORyWxDk9=s240-c-k-c0x00ffffff-no-rj",
            "width": 240
           }
          },
          "title": "Luke Barousse"
         },
         "statistics": {
          "hiddenSubscriberCount": false,
          "subscriberCount": "241000",
          "videoCount": "79",
          "viewCount": "10934191"
         }
        },
        {
         "contentDetails": {
          "relatedPlaylists": {
           "likes": "",
           "uploads": "UU2UXDak6o7rBm23k3Vv5dww"
          }
         },
         "etag": "QGnu5yx1eZFORFHKheKhPR-Rjjo",
         "id": "UC2UXDak6o7rBm23k3Vv5dww",
         "kind": "youtube#channel",
         "snippet": {
          "country": "US",
          "customUrl": "@tinahuang1",
          "description": "Hi! My name is Tina and I'm a data scientist at a FAANG company. \n\nThis channel is about data science, learning, and productivity. I love learning new things and my goal is to always minimize effort and maximize outcome! \n\nI strive to do things the most efficient way possible and with the highest reward. I basically refuse to do extra work to achieve my goals c: \n\n----------------------------------------------------------------------------------------------------------------------------------------------------\nA little about myself:\n\nI did my undergraduate at the University of Toronto where I studied pharmacology. I was pre-med but decided I would be a terrible doctor 😱. I worked in bioinformatics for a year and then did my masters in computer science (MCIT) at the University of Pennsylvania. \n\nI interned at Goldman Sachs, then got my current data science job in tech. \n\nTalk soon! \nTina",
          "localized": {
           "description": "Hi! My name is Tina and I'm a data scientist at a FAANG company. \n\nThis channel is about data science, learning, and productivity. I love learning new things and my goal is to always minimize effort and maximize outcome! \n\nI strive to do things the most efficient way possible and with the highest reward. I basically refuse to do extra work to achieve my goals c: \n\n----------------------------------------------------------------------------------------------------------------------------------------------------\nA little about myself:\n\nI did my undergraduate at the University of Toronto where I studied pharmacology. I was pre-med but decided I would be a terrible doctor 😱. I worked in bioinformatics for a year and then did my masters in computer science (MCIT) at the University of Pennsylvania. \n\nI interned at Goldman Sachs, then got my current data science job in tech. \n\nTalk soon! \nTina",
           "title": "Tina Huang"
          },
          "publishedAt": "2013-08-28T18:05:17Z",
          "thumbnails": {
           "default": {
            "height": 88,
            "url": "https://yt3.ggpht.com/QMaMXCtmRUXUuIWb6sUMLi_ulWNCxPuVnu3I-3IkT1YCJs6XzcxKoOFrzx_WjVW65S46S_pTRQ=s88-c-k-c0x00ffffff-no-rj",
            "width": 88
           },
           "high": {
            "height": 800,
            "url": "https://yt3.ggpht.com/QMaMXCtmRUXUuIWb6sUMLi_ulWNCxPuVnu3I-3IkT1YCJs6XzcxKoOFrzx_WjVW65S46S_pTRQ=s800-c-k-c0x00ffffff-no-rj",
            "width": 800
           },
           "medium": {
            "height": 240,
            "url": "https://yt3.ggpht.com/QMaMXCtmRUXUuIWb6sUMLi_ulWNCxPuVnu3I-3IkT1YCJs6XzcxKoOFrzx_WjVW65S46S_pTRQ=s240-c-k-c0x00ffffff-no-rj",
            "width": 240
           }
          },
          "title": "Tina Huang"
         },
         "statistics": {
          "hiddenSubscriberCount": false,
          "subscriberCount": "397000",
          "videoCount": "107",
          "viewCount": "15687499"
         }
        },
        {
         "contentDetails": {
          "relatedPlaylists": {
           "likes": "",
           "uploads": "UUtYLUTtgS3k1Fg4y5tAhLbw"
          }
         },
         "etag": "NFIRRU_PpaIfri_hB7Vi2buheRo",
         "id": "UCtYLUTtgS3k1Fg4y5tAhLbw",
         "kind": "youtube#channel",
         "snippet": {
          "country": "US",
          "customUrl": "@joshstarmer",
          "description": "Statistics, Machine Learning and Data Science can sometimes seem like very scary topics, but since each technique is really just a combination of small and simple steps, they are actually quite simple. My goal with StatQuest is to break down the major methodologies into easy to understand pieces. That said, I don't dumb down the material. Instead, I build up your understanding so that you are smarter.\n\nContact, Video Index, Etc: https://statquest.org",
          "localized": {
           "description": "Statistics, Machine Learning and Data Science can sometimes seem like very scary topics, but since each technique is really just a combination of small and simple steps, they are actually quite simple. My goal with StatQuest is to break down the major methodologies into easy to understand pieces. That said, I don't dumb down the material. Instead, I build up your understanding so that you are smarter.\n\nContact, Video Index, Etc: https://statquest.org",
           "title": "StatQuest with Josh Starmer"
          },
          "publishedAt": "2011-05-24T01:52:48Z",
          "thumbnails": {
           "default": {
            "height": 88,
            "url": "https://yt3.ggpht.com/cwJBNZUHoJL8HvoIfkULt2IgNu1LF7AL9cYDqSCTGWvG5lASV_y8LiHkMyVUm5Kqt03TLFUCSw=s88-c-k-c0x00ffffff-no-rj",
            "width": 88
           },
           "high": {
            "height": 800,
            "url": "https://yt3.ggpht.com/cwJBNZUHoJL8HvoIfkULt2IgNu1LF7AL9cYDqSCTGWvG5lASV_y8LiHkMyVUm5Kqt03TLFUCSw=s800-c-k-c0x00ffffff-no-rj",
            "width": 800
           },
           "medium": {
            "height": 240,
            "url": "https://yt3.ggpht.com/cwJBNZUHoJL8HvoIfkULt2IgNu1LF7AL9cYDqSCTGWvG5lASV_y8LiHkMyVUm5Kqt03TLFUCSw=s240-c-k-c0x00ffffff-no-rj",
            "width": 240
           }
          },
          "title": "StatQuest with Josh Starmer"
         },
         "statistics": {
          "hiddenSubscriberCount": false,
          "subscriberCount": "798000",
          "videoCount": "221",
          "viewCount": "40937954"
         }
        },
        {
         "contentDetails": {
          "relatedPlaylists": {
           "likes": "",
           "uploads": "UUfzlCWGWYyIQ0aLC5w48gBQ"
          }
         },
         "etag": "ngx0y_fEq2O-hGNV9QxG_jVplmk",
         "id": "UCfzlCWGWYyIQ0aLC5w48gBQ",
         "kind": "youtube#channel",
         "snippet": {
          "country": "US",
          "customUrl": "@sentdex",
          "description": "Python Programming tutorials, going further than just the basics. Learn about machine learning, finance, data analysis, robotics, web development, game development and more.\n\nI have ~1000 videos, all of which do not fit on the front page. Try searching on the channel page, or via https://pythonprogramming.net. If you cannot find something, just ask! \n\nBitcoin donations: 1GV7srgR4NJx4vrk7avCmmVQQrqmv87ty6\nPaypal donations: HSKinsley@gmail.com",
          "localized": {
           "description": "Python Programming tutorials, going further than just the basics. Learn about machine learning, finance, data analysis, robotics, web development, game development and more.\n\nI have ~1000 videos, all of which do not fit on the front page. Try searching on the channel page, or via https://pythonprogramming.net. If you cannot find something, just ask! \n\nBitcoin donations: 1GV7srgR4NJx4vrk7avCmmVQQrqmv87ty6\nPaypal donations: HSKinsley@gmail.com",
           "title": "sentdex"
          },
          "publishedAt": "2012-12-16T20:49:11Z",
          "thumbnails": {
           "default": {
            "height": 88,
            "url": "https://yt3.ggpht.com/ytc/AMLnZu9n0HP5bHv4SdHlTioBOD3FSwULk-uFEAIxx1HbTw=s88-c-k-c0x00ffffff-no-rj",
            "width": 88
           },
           "high": {
            "height": 800,
            "url": "https://yt3.ggpht.com/ytc/AMLnZu9n0HP5bHv4SdHlTioBOD3FSwULk-uFEAIxx1HbTw=s800-c-k-c0x00ffffff-no-rj",
            "width": 800
           },
           "medium": {
            "height": 240,
            "url": "https://yt3.ggpht.com/ytc/AMLnZu9n0HP5bHv4SdHlTioBOD3FSwULk-uFEAIxx1HbTw=s240-c-k-c0x00ffffff-no-rj",
            "width": 240
           }
          },
          "title": "sentdex"
         },
         "statistics": {
          "hiddenSubscriberCount": false,
          "subscriberCount": "1160000",
          "videoCount": "1255",
          "viewCount": "104710825"
         }
        },
        {
         "contentDetails": {
          "relatedPlaylists": {
           "likes": "",
           "uploads": "UUzL_0nIe8B4-7ShhVPfJkgw"
          }
         },
         "etag": "fSGpMuA34xOI16nrRJTvymk77cw",
         "id": "UCzL_0nIe8B4-7ShhVPfJkgw",
         "kind": "youtube#channel",
         "snippet": {
          "country": "US",
          "customUrl": "@datasciencedojo",
          "description": "Data Science Dojo is an e-learning company that is redefining the data science education landscape with simpler, digestible, and not to brag ---- engaging curriculum. We believe that data science is for everyone.  So, we invest our time in simplifying and educating data science and machine learning concepts that our attendees can actually apply to generate business value in their respective job functions.\n\nOur channel showcases our commitment to teaching data science! You will find tutorials, community talks, and courses on data science and data engineering. We offer many courses that address all competency levels. Explore the full catalog of courses on Data Science Dojo and start learning today → datasciencedojo.com ",
          "localized": {
           "description": "Data Science Dojo is an e-learning company that is redefining the data science education landscape with simpler, digestible, and not to brag ---- engaging curriculum. We believe that data science is for everyone.  So, we invest our time in simplifying and educating data science and machine learning concepts that our attendees can actually apply to generate business value in their respective job functions.\n\nOur channel showcases our commitment to teaching data science! You will find tutorials, community talks, and courses on data science and data engineering. We offer many courses that address all competency levels. Explore the full catalog of courses on Data Science Dojo and start learning today → datasciencedojo.com ",
           "title": "Data Science Dojo"
          },
          "publishedAt": "2014-08-06T21:12:46Z",
          "thumbnails": {
           "default": {
            "height": 88,
            "url": "https://yt3.ggpht.com/ytc/AMLnZu_GEVtAUz3b8EZ1uEr4zh94tEKIgb9YJH4SyqvHLw=s88-c-k-c0x00ffffff-no-rj",
            "width": 88
           },
           "high": {
            "height": 800,
            "url": "https://yt3.ggpht.com/ytc/AMLnZu_GEVtAUz3b8EZ1uEr4zh94tEKIgb9YJH4SyqvHLw=s800-c-k-c0x00ffffff-no-rj",
            "width": 800
           },
           "medium": {
            "height": 240,
            "url": "https://yt3.ggpht.com/ytc/AMLnZu_GEVtAUz3b8EZ1uEr4zh94tEKIgb9YJH4SyqvHLw=s240-c-k-c0x00ffffff-no-rj",
            "width": 240
           }
          },
          "title": "Data Science Dojo"
         },
         "statistics": {
          "hiddenSubscriberCount": false,
          "subscriberCount": "88100",
          "videoCount": "360",
          "viewCount": "4994626"
         }
        },
        {
         "contentDetails": {
          "relatedPlaylists": {
           "likes": "",
           "uploads": "UU7cs8q-gJRlGwj4A8OmCmXg"
          }
         },
         "etag": "hfty5uyluxB-9upRNK272ESAkuU",
         "id": "UC7cs8q-gJRlGwj4A8OmCmXg",
         "kind": "youtube#channel",
         "snippet": {
          "country": "US",
          "customUrl": "@alextheanalyst",
          "description": "My name is Alex Freberg and on this channel I will be going over everything you need to know to become a Data Analyst. If you are wanting to make a career change or learn the skills needed to become a Data Analyst, be sure to subscribe to stay up to date on all my latest content.\n\nYou can find me on LinkedIn at:\nhttps://www.linkedin.com/in/alex-freberg/\n\nAlexTheAnalyst.com\nhttps://www.alextheanalyst.com/\n\nDiscord Channel:\nhttps://discord.gg/rxZUjNvRzR\n\n1 on 1 Coaching/Support the Channel:\nhttps://www.patreon.com/AlexTheAnalyst\n\nTwitter:\n@Alex_TheAnalyst\n\nSend Me Something:\n431 Saint James Avenue Suite L #318, Goose Creek, SC, 29445\n",
          "localized": {
           "description": "My name is Alex Freberg and on this channel I will be going over everything you need to know to become a Data Analyst. If you are wanting to make a career change or learn the skills needed to become a Data Analyst, be sure to subscribe to stay up to date on all my latest content.\n\nYou can find me on LinkedIn at:\nhttps://www.linkedin.com/in/alex-freberg/\n\nAlexTheAnalyst.com\nhttps://www.alextheanalyst.com/\n\nDiscord Channel:\nhttps://discord.gg/rxZUjNvRzR\n\n1 on 1 Coaching/Support the Channel:\nhttps://www.patreon.com/AlexTheAnalyst\n\nTwitter:\n@Alex_TheAnalyst\n\nSend Me Something:\n431 Saint James Avenue Suite L #318, Goose Creek, SC, 29445\n",
           "title": "Alex The Analyst"
          },
          "publishedAt": "2020-01-08T05:04:24.970712Z",
          "thumbnails": {
           "default": {
            "height": 88,
            "url": "https://yt3.ggpht.com/ytc/AMLnZu9iyZu10NYIbwWmmYU2MJw5uifKxocE9AjDed9W=s88-c-k-c0x00ffffff-no-rj",
            "width": 88
           },
           "high": {
            "height": 800,
            "url": "https://yt3.ggpht.com/ytc/AMLnZu9iyZu10NYIbwWmmYU2MJw5uifKxocE9AjDed9W=s800-c-k-c0x00ffffff-no-rj",
            "width": 800
           },
           "medium": {
            "height": 240,
            "url": "https://yt3.ggpht.com/ytc/AMLnZu9iyZu10NYIbwWmmYU2MJw5uifKxocE9AjDed9W=s240-c-k-c0x00ffffff-no-rj",
            "width": 240
           }
          },
          "title": "Alex The Analyst"
         },
         "statistics": {
          "hiddenSubscriberCount": false,
          "subscriberCount": "284000",
          "videoCount": "164",
          "viewCount": "11298116"
         }
        },
        {
         "contentDetails": {
          "relatedPlaylists": {
           "likes": "",
           "uploads": "UUCezIgC97PvUuR4_gbFUs5g"
          }
         },
         "etag": "wPWSG5s2cL7g0o9HQgZjxqZZBX4",
         "id": "UCCezIgC97PvUuR4_gbFUs5g",
         "kind": "youtube#channel",
         "snippet": {
          "country": "US",
          "customUrl": "@coreyms",
          "description": "Welcome to my Channel. This channel is focused on creating tutorials and walkthroughs for software developers, programmers, and engineers. We cover topics for all different skill levels, so whether you are a beginner or have many years of experience, this channel will have something for you.\n\nWe've already released a wide variety of videos on topics that include: Python, Git, Development Environments, Terminal Commands, SQL, Programming Terms, JavaScript, Computer Science Fundamentals, and plenty of other tips and tricks which will help you in your career.\n\n\nIf you enjoy these videos and would like to support my channel, I would greatly appreciate any assistance through my Patreon account:\nhttps://www.patreon.com/coreyms\n\n\nYou can find me on:\nMy website - http://coreyms.com/\nFacebook - https://www.facebook.com/CoreyMSchafer\nTwitter - https://twitter.com/CoreyMSchafer\nGoogle Plus - https://plus.google.com/+CoreySchafer44/posts\nTumblr - https://www.tumblr.com/blog/mycms",
          "localized": {
           "description": "Welcome to my Channel. This channel is focused on creating tutorials and walkthroughs for software developers, programmers, and engineers. We cover topics for all different skill levels, so whether you are a beginner or have many years of experience, this channel will have something for you.\n\nWe've already released a wide variety of videos on topics that include: Python, Git, Development Environments, Terminal Commands, SQL, Programming Terms, JavaScript, Computer Science Fundamentals, and plenty of other tips and tricks which will help you in your career.\n\n\nIf you enjoy these videos and would like to support my channel, I would greatly appreciate any assistance through my Patreon account:\nhttps://www.patreon.com/coreyms\n\n\nYou can find me on:\nMy website - http://coreyms.com/\nFacebook - https://www.facebook.com/CoreyMSchafer\nTwitter - https://twitter.com/CoreyMSchafer\nGoogle Plus - https://plus.google.com/+CoreySchafer44/posts\nTumblr - https://www.tumblr.com/blog/mycms",
           "title": "Corey Schafer"
          },
          "publishedAt": "2006-05-31T22:49:22Z",
          "thumbnails": {
           "default": {
            "height": 88,
            "url": "https://yt3.ggpht.com/ytc/AMLnZu_MHfLS7PlpkGLsK_OVuw59IQXMsBwvVjH4B8Gu=s88-c-k-c0x00ffffff-no-rj",
            "width": 88
           },
           "high": {
            "height": 800,
            "url": "https://yt3.ggpht.com/ytc/AMLnZu_MHfLS7PlpkGLsK_OVuw59IQXMsBwvVjH4B8Gu=s800-c-k-c0x00ffffff-no-rj",
            "width": 800
           },
           "medium": {
            "height": 240,
            "url": "https://yt3.ggpht.com/ytc/AMLnZu_MHfLS7PlpkGLsK_OVuw59IQXMsBwvVjH4B8Gu=s240-c-k-c0x00ffffff-no-rj",
            "width": 240
           }
          },
          "title": "Corey Schafer"
         },
         "statistics": {
          "hiddenSubscriberCount": false,
          "subscriberCount": "991000",
          "videoCount": "230",
          "viewCount": "77619402"
         }
        },
        {
         "contentDetails": {
          "relatedPlaylists": {
           "likes": "",
           "uploads": "UUiT9RITQ9PW6BhXK0y2jaeg"
          }
         },
         "etag": "5FcAA91z3x8CUg5pLQgNLv_kH5k",
         "id": "UCiT9RITQ9PW6BhXK0y2jaeg",
         "kind": "youtube#channel",
         "snippet": {
          "country": "US",
          "customUrl": "@kenjee1",
          "description": "Data Science and Sports Analytics are my passions. My name is Ken Jee and I have been working in the data science field doing sports analytics for the last 5 years. I have held data science positions in companies ranging from startups to fortune 100 organizations.  I transitioned into data science from a business and consulting background. When I was first starting out on my data science journey I was extremely lost; there were very few resources for me to learn about this field from. I decided to start making YouTube videos to share my experiences and to hopefully help others get break into the data science and sports analytics fields. \n\nOn this channel I produce fun and informative Data Science and Sports Analytics Content. My goal is to provide insight into the data science community, career advice, and sports related analysis.\n\n",
          "localized": {
           "description": "Data Science and Sports Analytics are my passions. My name is Ken Jee and I have been working in the data science field doing sports analytics for the last 5 years. I have held data science positions in companies ranging from startups to fortune 100 organizations.  I transitioned into data science from a business and consulting background. When I was first starting out on my data science journey I was extremely lost; there were very few resources for me to learn about this field from. I decided to start making YouTube videos to share my experiences and to hopefully help others get break into the data science and sports analytics fields. \n\nOn this channel I produce fun and informative Data Science and Sports Analytics Content. My goal is to provide insight into the data science community, career advice, and sports related analysis.\n\n",
           "title": "Ken Jee"
          },
          "publishedAt": "2014-02-28T14:58:24Z",
          "thumbnails": {
           "default": {
            "height": 88,
            "url": "https://yt3.ggpht.com/ytc/AMLnZu-gvNMCqNLnYDrF2a3kwHe7cSfmcA_9guf13AHGBg=s88-c-k-c0x00ffffff-no-rj",
            "width": 88
           },
           "high": {
            "height": 800,
            "url": "https://yt3.ggpht.com/ytc/AMLnZu-gvNMCqNLnYDrF2a3kwHe7cSfmcA_9guf13AHGBg=s800-c-k-c0x00ffffff-no-rj",
            "width": 800
           },
           "medium": {
            "height": 240,
            "url": "https://yt3.ggpht.com/ytc/AMLnZu-gvNMCqNLnYDrF2a3kwHe7cSfmcA_9guf13AHGBg=s240-c-k-c0x00ffffff-no-rj",
            "width": 240
           }
          },
          "title": "Ken Jee"
         },
         "statistics": {
          "hiddenSubscriberCount": false,
          "subscriberCount": "218000",
          "videoCount": "238",
          "viewCount": "6926722"
         }
        },
        {
         "contentDetails": {
          "relatedPlaylists": {
           "likes": "",
           "uploads": "UUNU_lfiiWBdtULKOw6X0Dig"
          }
         },
         "etag": "WxMNOLly9QDYmp3QJ4pU_e89VM4",
         "id": "UCNU_lfiiWBdtULKOw6X0Dig",
         "kind": "youtube#channel",
         "snippet": {
          "country": "IN",
          "customUrl": "@krishnaik06",
          "description": "I am the cofounder of iNeuron and my experience is pioneering in machine learning, deep learning, and computer vision,an educator, and a mentor, with over 10 years' experience in the industry. This is my YouTube channel where I explain various topics on machine learning, deep learning, and AI with many real-world problem scenarios. I have delivered over 30 tech talks on data science, machine learning, and AI at various meet-ups, technical institutions, and community-arranged forums. My main aim is to make everyone familiar of ML and AI.Please subscribe and support the channel. As i love new technology, all these videos are free and I promise to make more interesting content as we go ahead.\nFor any collaboration drop me a mail at krishnaik06@gmail.com\n\nPlease free to drop a mail for Product unboxing, GPU's unboxing and any other collaboration",
          "localized": {
           "description": "I am the cofounder of iNeuron and my experience is pioneering in machine learning, deep learning, and computer vision,an educator, and a mentor, with over 10 years' experience in the industry. This is my YouTube channel where I explain various topics on machine learning, deep learning, and AI with many real-world problem scenarios. I have delivered over 30 tech talks on data science, machine learning, and AI at various meet-ups, technical institutions, and community-arranged forums. My main aim is to make everyone familiar of ML and AI.Please subscribe and support the channel. As i love new technology, all these videos are free and I promise to make more interesting content as we go ahead.\nFor any collaboration drop me a mail at krishnaik06@gmail.com\n\nPlease free to drop a mail for Product unboxing, GPU's unboxing and any other collaboration",
           "title": "Krish Naik"
          },
          "publishedAt": "2012-02-11T04:05:06Z",
          "thumbnails": {
           "default": {
            "height": 88,
            "url": "https://yt3.ggpht.com/ytc/AMLnZu_Ow7V1PyNJXmvxUmamZqNR3IMT94rkYdJ0mz-8xQ=s88-c-k-c0x00ffffff-no-rj",
            "width": 88
           },
           "high": {
            "height": 800,
            "url": "https://yt3.ggpht.com/ytc/AMLnZu_Ow7V1PyNJXmvxUmamZqNR3IMT94rkYdJ0mz-8xQ=s800-c-k-c0x00ffffff-no-rj",
            "width": 800
           },
           "medium": {
            "height": 240,
            "url": "https://yt3.ggpht.com/ytc/AMLnZu_Ow7V1PyNJXmvxUmamZqNR3IMT94rkYdJ0mz-8xQ=s240-c-k-c0x00ffffff-no-rj",
            "width": 240
           }
          },
          "title": "Krish Naik"
         },
         "statistics": {
          "hiddenSubscriberCount": false,
          "subscriberCount": "656000",
          "videoCount": "1498",
          "viewCount": "61848715"
         }
        }
       ],
       "kind": "youtube#channelListResponse",
       "pageInfo": {
        "resultsPerPage": 5,
        "totalResults": 9
       }
      },
      "text/plain": [
       "<IPython.core.display.JSON object>"
      ]
     },
     "execution_count": 4,
     "metadata": {
      "application/json": {
       "expanded": false,
       "root": "root"
      }
     },
     "output_type": "execute_result"
    }
   ],
   "source": [
    "api_service_name = \"youtube\"\n",
    "api_version = \"v3\"\n",
    "\n",
    "\n",
    "# Get credentials and create an API client\n",
    "youtube = build(\n",
    "    api_service_name, api_version, developerKey=api_key)\n",
    "\n",
    "request = youtube.channels().list(\n",
    "        part=\"snippet,contentDetails,statistics\",\n",
    "        id=','.join(channel_ids)\n",
    ")\n",
    "response = request.execute()\n",
    "\n",
    "JSON(response)"
   ]
  },
  {
   "cell_type": "code",
   "execution_count": 5,
   "id": "7b6ed557-b74d-4fa9-b559-806dad66fbb4",
   "metadata": {},
   "outputs": [],
   "source": [
    "def get_channel_stats(youtube, channel_ids):\n",
    "    \"\"\"\n",
    "    Get channel statistics: title, subscriber count, view count, video count, upload playlist\n",
    "    Params:\n",
    "    \n",
    "    youtube: the build object from googleapiclient.discovery\n",
    "    channels_ids: list of channel IDs\n",
    "    \n",
    "    Returns:\n",
    "    Dataframe containing the channel statistics for all channels in the provided list: title, subscriber count, view count, video count, upload playlist\n",
    "    \n",
    "    \"\"\"\n",
    "    all_data = []\n",
    "    request = youtube.channels().list(\n",
    "                part='snippet,contentDetails,statistics',\n",
    "                id=','.join(channel_ids))\n",
    "    response = request.execute() \n",
    "    \n",
    "    for i in range(len(response['items'])):\n",
    "        data = dict(channelName = response['items'][i]['snippet']['title'],\n",
    "                    subscribers = response['items'][i]['statistics']['subscriberCount'],\n",
    "                    views = response['items'][i]['statistics']['viewCount'],\n",
    "                    totalVideos = response['items'][i]['statistics']['videoCount'],\n",
    "                    playlistId = response['items'][i]['contentDetails']['relatedPlaylists']['uploads'])\n",
    "        all_data.append(data)\n",
    "    \n",
    "    return pd.DataFrame(all_data)"
   ]
  },
  {
   "cell_type": "code",
   "execution_count": 6,
   "id": "fc7a6491-73aa-41c6-b8a5-f83bd617c749",
   "metadata": {},
   "outputs": [],
   "source": [
    "channel_data = get_channel_stats(youtube, channel_ids)"
   ]
  },
  {
   "cell_type": "code",
   "execution_count": 7,
   "id": "d776265f-e1e0-4fac-8f9a-15f539339427",
   "metadata": {},
   "outputs": [
    {
     "data": {
      "text/html": [
       "<div>\n",
       "<style scoped>\n",
       "    .dataframe tbody tr th:only-of-type {\n",
       "        vertical-align: middle;\n",
       "    }\n",
       "\n",
       "    .dataframe tbody tr th {\n",
       "        vertical-align: top;\n",
       "    }\n",
       "\n",
       "    .dataframe thead th {\n",
       "        text-align: right;\n",
       "    }\n",
       "</style>\n",
       "<table border=\"1\" class=\"dataframe\">\n",
       "  <thead>\n",
       "    <tr style=\"text-align: right;\">\n",
       "      <th></th>\n",
       "      <th>channelName</th>\n",
       "      <th>subscribers</th>\n",
       "      <th>views</th>\n",
       "      <th>totalVideos</th>\n",
       "      <th>playlistId</th>\n",
       "    </tr>\n",
       "  </thead>\n",
       "  <tbody>\n",
       "    <tr>\n",
       "      <th>0</th>\n",
       "      <td>Tina Huang</td>\n",
       "      <td>397000</td>\n",
       "      <td>15687499</td>\n",
       "      <td>107</td>\n",
       "      <td>UU2UXDak6o7rBm23k3Vv5dww</td>\n",
       "    </tr>\n",
       "    <tr>\n",
       "      <th>1</th>\n",
       "      <td>Corey Schafer</td>\n",
       "      <td>991000</td>\n",
       "      <td>77619402</td>\n",
       "      <td>230</td>\n",
       "      <td>UUCezIgC97PvUuR4_gbFUs5g</td>\n",
       "    </tr>\n",
       "    <tr>\n",
       "      <th>2</th>\n",
       "      <td>sentdex</td>\n",
       "      <td>1160000</td>\n",
       "      <td>104710825</td>\n",
       "      <td>1255</td>\n",
       "      <td>UUfzlCWGWYyIQ0aLC5w48gBQ</td>\n",
       "    </tr>\n",
       "    <tr>\n",
       "      <th>3</th>\n",
       "      <td>Krish Naik</td>\n",
       "      <td>656000</td>\n",
       "      <td>61848715</td>\n",
       "      <td>1498</td>\n",
       "      <td>UUNU_lfiiWBdtULKOw6X0Dig</td>\n",
       "    </tr>\n",
       "    <tr>\n",
       "      <th>4</th>\n",
       "      <td>Data Science Dojo</td>\n",
       "      <td>88100</td>\n",
       "      <td>4994626</td>\n",
       "      <td>360</td>\n",
       "      <td>UUzL_0nIe8B4-7ShhVPfJkgw</td>\n",
       "    </tr>\n",
       "    <tr>\n",
       "      <th>5</th>\n",
       "      <td>Ken Jee</td>\n",
       "      <td>218000</td>\n",
       "      <td>6926722</td>\n",
       "      <td>238</td>\n",
       "      <td>UUiT9RITQ9PW6BhXK0y2jaeg</td>\n",
       "    </tr>\n",
       "    <tr>\n",
       "      <th>6</th>\n",
       "      <td>Alex The Analyst</td>\n",
       "      <td>284000</td>\n",
       "      <td>11298116</td>\n",
       "      <td>164</td>\n",
       "      <td>UU7cs8q-gJRlGwj4A8OmCmXg</td>\n",
       "    </tr>\n",
       "    <tr>\n",
       "      <th>7</th>\n",
       "      <td>StatQuest with Josh Starmer</td>\n",
       "      <td>798000</td>\n",
       "      <td>40937954</td>\n",
       "      <td>221</td>\n",
       "      <td>UUtYLUTtgS3k1Fg4y5tAhLbw</td>\n",
       "    </tr>\n",
       "    <tr>\n",
       "      <th>8</th>\n",
       "      <td>Luke Barousse</td>\n",
       "      <td>241000</td>\n",
       "      <td>10934191</td>\n",
       "      <td>79</td>\n",
       "      <td>UULLw7jmFsvfIVaUFsLs8mlQ</td>\n",
       "    </tr>\n",
       "  </tbody>\n",
       "</table>\n",
       "</div>"
      ],
      "text/plain": [
       "                   channelName subscribers      views totalVideos  \\\n",
       "0                   Tina Huang      397000   15687499         107   \n",
       "1                Corey Schafer      991000   77619402         230   \n",
       "2                      sentdex     1160000  104710825        1255   \n",
       "3                   Krish Naik      656000   61848715        1498   \n",
       "4            Data Science Dojo       88100    4994626         360   \n",
       "5                      Ken Jee      218000    6926722         238   \n",
       "6             Alex The Analyst      284000   11298116         164   \n",
       "7  StatQuest with Josh Starmer      798000   40937954         221   \n",
       "8                Luke Barousse      241000   10934191          79   \n",
       "\n",
       "                 playlistId  \n",
       "0  UU2UXDak6o7rBm23k3Vv5dww  \n",
       "1  UUCezIgC97PvUuR4_gbFUs5g  \n",
       "2  UUfzlCWGWYyIQ0aLC5w48gBQ  \n",
       "3  UUNU_lfiiWBdtULKOw6X0Dig  \n",
       "4  UUzL_0nIe8B4-7ShhVPfJkgw  \n",
       "5  UUiT9RITQ9PW6BhXK0y2jaeg  \n",
       "6  UU7cs8q-gJRlGwj4A8OmCmXg  \n",
       "7  UUtYLUTtgS3k1Fg4y5tAhLbw  \n",
       "8  UULLw7jmFsvfIVaUFsLs8mlQ  "
      ]
     },
     "execution_count": 7,
     "metadata": {},
     "output_type": "execute_result"
    }
   ],
   "source": [
    "channel_data"
   ]
  },
  {
   "cell_type": "code",
   "execution_count": 8,
   "id": "9a4ece75-ac71-459e-9469-c44807690cb4",
   "metadata": {},
   "outputs": [],
   "source": [
    "playlist_id = 'UULLw7jmFsvfIVaUFsLs8mlQ'\n",
    "\n",
    "def get_video_ids(youtube, playlist_id):\n",
    "    \"\"\"\n",
    "    Get list of video IDs of all videos in the given playlist\n",
    "    Params:\n",
    "    \n",
    "    youtube: the build object from googleapiclient.discovery\n",
    "    playlist_id: playlist ID of the channel\n",
    "    \n",
    "    Returns:\n",
    "    List of video IDs of all videos in the playlist\n",
    "    \n",
    "    \"\"\"\n",
    "    \n",
    "    request = youtube.playlistItems().list(\n",
    "                part='contentDetails',\n",
    "                playlistId = playlist_id,\n",
    "                maxResults = 50)\n",
    "    response = request.execute()\n",
    "    \n",
    "    video_ids = []\n",
    "    \n",
    "    for i in range(len(response['items'])):\n",
    "        video_ids.append(response['items'][i]['contentDetails']['videoId'])\n",
    "        \n",
    "    next_page_token = response.get('nextPageToken')\n",
    "    more_pages = True\n",
    "    \n",
    "    while more_pages:\n",
    "        if next_page_token is None:\n",
    "            more_pages = False\n",
    "        else:\n",
    "            request = youtube.playlistItems().list(\n",
    "                        part='contentDetails',\n",
    "                        playlistId = playlist_id,\n",
    "                        maxResults = 50,\n",
    "                        pageToken = next_page_token)\n",
    "            response = request.execute()\n",
    "    \n",
    "            for i in range(len(response['items'])):\n",
    "                video_ids.append(response['items'][i]['contentDetails']['videoId'])\n",
    "            \n",
    "            next_page_token = response.get('nextPageToken')\n",
    "        \n",
    "    return video_ids"
   ]
  },
  {
   "cell_type": "code",
   "execution_count": 9,
   "id": "bfa00fd7-03f7-4076-aac2-1ae7c5505d04",
   "metadata": {},
   "outputs": [],
   "source": [
    "video_ids = get_video_ids(youtube, playlist_id)"
   ]
  },
  {
   "cell_type": "code",
   "execution_count": 10,
   "id": "fca08493-620e-4738-aaaf-4b9149c5bb10",
   "metadata": {},
   "outputs": [
    {
     "data": {
      "text/plain": [
       "79"
      ]
     },
     "execution_count": 10,
     "metadata": {},
     "output_type": "execute_result"
    }
   ],
   "source": [
    "len(video_ids)"
   ]
  },
  {
   "cell_type": "code",
   "execution_count": 11,
   "id": "613a3f69-e8bc-4957-8cd7-3f2fa59b3478",
   "metadata": {},
   "outputs": [
    {
     "data": {
      "application/json": {
       "etag": "OpQ2qQHKdYTB31KkH68_ofGetQY",
       "items": [
        {
         "contentDetails": {
          "videoId": "a74i3lANNfk",
          "videoPublishedAt": "2022-09-22T23:00:01Z"
         },
         "etag": "g-_poJuS6cBYeufixOto5BtuyhY",
         "id": "VVUyMmdvNUxkUUV3LWlEdXhGYjRDMGh3LmE3NGkzbEFOTmZr",
         "kind": "youtube#playlistItem",
         "snippet": {
          "channelId": "UC22go5LdQEw-iDuxFb4C0hw",
          "channelTitle": "SBS TV동물농장x애니멀봐",
          "description": "더 쪼꼬미틱한 쪼꼬미들과 다시 돌아온 –쪼꼬미 동물병원 시즌2–\n매끈한 흰 피부가 얼룰덜룩해져서 온 공비단뱀 '흰둥이', 이유가..\n\n#집에서함께애니멀봐 #쪼꼬미동물병원2 #공비단뱀흰둥이\n-------------------------------------------------\n애니멀봐와 한배타고⛵\n☞ https://goo.gl/WL9mGy\n\n흰둥이 같은 뱀 더 보기🐍\n☞ https://youtu.be/3SYSKq2NXvc\n\n아님 다른 동물 더 보고나서🐶\n☞ https://youtu.be/XILJRqj_8vA\n\n[애니멀봐]와 베프되기\n　페이스북: https://www.facebook.com/sbstvanimal\n　인스타그램: https://www.instagram.com/sbsanimal\n　트위터: https://twitter.com/sbsyang\n\n-------------------------------------------------\n[Credit Music♪]\nㆍMusic provided by 브금대통령\n　- 랄랄라쏭 (https://bit.ly/3Sl9uEC)\n　- 가을 소풍 (https://bit.ly/3eZ3cfq)\n　- 뚱땅뚱땅 (https://bit.ly/3rgnMuV)\n　- Memory Of Spring (https://bit.ly/3SlY9Ej)\n　- 개억울 (https://bit.ly/3R8eOtY)\n　- Kid's Room (https://bit.ly/3qYOs2S)\n　- Cute Cute (https://bit.ly/3xHeOdw)\n　- Mukbang (https://bit.ly/3R5sN3L)",
          "playlistId": "UU22go5LdQEw-iDuxFb4C0hw",
          "position": 0,
          "publishedAt": "2022-09-22T23:00:01Z",
          "resourceId": {
           "kind": "youtube#video",
           "videoId": "a74i3lANNfk"
          },
          "thumbnails": {
           "default": {
            "height": 90,
            "url": "https://i.ytimg.com/vi/a74i3lANNfk/default.jpg",
            "width": 120
           },
           "high": {
            "height": 360,
            "url": "https://i.ytimg.com/vi/a74i3lANNfk/hqdefault.jpg",
            "width": 480
           },
           "maxres": {
            "height": 720,
            "url": "https://i.ytimg.com/vi/a74i3lANNfk/maxresdefault.jpg",
            "width": 1280
           },
           "medium": {
            "height": 180,
            "url": "https://i.ytimg.com/vi/a74i3lANNfk/mqdefault.jpg",
            "width": 320
           },
           "standard": {
            "height": 480,
            "url": "https://i.ytimg.com/vi/a74i3lANNfk/sddefault.jpg",
            "width": 640
           }
          },
          "title": "쪼꼬미 동물병원 시즌2 9화 (내원환자: 공비단뱀 흰둥이님)ㅣAnimal Hospital for Tiny Animals2 Ep 9 (Patient: Ball python)",
          "videoOwnerChannelId": "UC22go5LdQEw-iDuxFb4C0hw",
          "videoOwnerChannelTitle": "SBS TV동물농장x애니멀봐"
         }
        },
        {
         "contentDetails": {
          "videoId": "u8pYEs5jwjE",
          "videoPublishedAt": "2022-09-22T08:00:53Z"
         },
         "etag": "Domb5Z2wYOvwOAeGNk5xjM1BJ0Q",
         "id": "VVUyMmdvNUxkUUV3LWlEdXhGYjRDMGh3LnU4cFlFczVqd2pF",
         "kind": "youtube#playlistItem",
         "snippet": {
          "channelId": "UC22go5LdQEw-iDuxFb4C0hw",
          "channelTitle": "SBS TV동물농장x애니멀봐",
          "description": "",
          "playlistId": "UU22go5LdQEw-iDuxFb4C0hw",
          "position": 1,
          "publishedAt": "2022-09-22T08:00:53Z",
          "resourceId": {
           "kind": "youtube#video",
           "videoId": "u8pYEs5jwjE"
          },
          "thumbnails": {
           "default": {
            "height": 90,
            "url": "https://i.ytimg.com/vi/u8pYEs5jwjE/default.jpg",
            "width": 120
           },
           "high": {
            "height": 360,
            "url": "https://i.ytimg.com/vi/u8pYEs5jwjE/hqdefault.jpg",
            "width": 480
           },
           "maxres": {
            "height": 720,
            "url": "https://i.ytimg.com/vi/u8pYEs5jwjE/maxresdefault.jpg",
            "width": 1280
           },
           "medium": {
            "height": 180,
            "url": "https://i.ytimg.com/vi/u8pYEs5jwjE/mqdefault.jpg",
            "width": 320
           },
           "standard": {
            "height": 480,
            "url": "https://i.ytimg.com/vi/u8pYEs5jwjE/sddefault.jpg",
            "width": 640
           }
          },
          "title": "제 1회 애니멀봐 천하제일 귀절대회 [오마이독]",
          "videoOwnerChannelId": "UC22go5LdQEw-iDuxFb4C0hw",
          "videoOwnerChannelTitle": "SBS TV동물농장x애니멀봐"
         }
        },
        {
         "contentDetails": {
          "videoId": "CiO0o20qo0I",
          "videoPublishedAt": "2022-09-21T23:00:08Z"
         },
         "etag": "S3qd4QOAu6RJZTOxdbvZeZdef3A",
         "id": "VVUyMmdvNUxkUUV3LWlEdXhGYjRDMGh3LkNpTzBvMjBxbzBJ",
         "kind": "youtube#playlistItem",
         "snippet": {
          "channelId": "UC22go5LdQEw-iDuxFb4C0hw",
          "channelTitle": "SBS TV동물농장x애니멀봐",
          "description": "몸이 불편한 아저씨 곁을 지키는 강아지 ‘진돌이’\n아저씨의 손과 발이 되어주며, 보디개드 역할 열심히 수행 중! \n\n#집에서함께애니멀봐 #든든한보디개드 #아저씨의행복\n-------------------------------------------------\n애니멀봐와 한배타고⛵\n☞ https://goo.gl/WL9mGy\n\n강아지 더 보기🐶\n☞ https://youtu.be/sEtUYczN_GM\n\n아님 다른 동물 더 보고나서🦝\n☞ https://youtu.be/xb8DHKWFSvI\n\n[애니멀봐]와 베프되기\n　페이스북: https://www.facebook.com/sbstvanimal\n　인스타그램: https://www.instagram.com/sbsanimal\n　트위터: https://twitter.com/sbsyang\n\n-------------------------------------------------\n[Credit Music♪]\nㆍMusic provided by 브금대통령\n　- I Wanna be a Rockstar ( https://bit.ly/3BBAV6x )\n　- 그렇게 어른이 되고 ( https://bit.ly/3BubUdn )\n　- 맛춤뻡빌런 ( https://bit.ly/3f9429G )\n　- 소개팅 가는길 ( https://bit.ly/3DDtBtt )",
          "playlistId": "UU22go5LdQEw-iDuxFb4C0hw",
          "position": 2,
          "publishedAt": "2022-09-21T23:00:08Z",
          "resourceId": {
           "kind": "youtube#video",
           "videoId": "CiO0o20qo0I"
          },
          "thumbnails": {
           "default": {
            "height": 90,
            "url": "https://i.ytimg.com/vi/CiO0o20qo0I/default.jpg",
            "width": 120
           },
           "high": {
            "height": 360,
            "url": "https://i.ytimg.com/vi/CiO0o20qo0I/hqdefault.jpg",
            "width": 480
           },
           "maxres": {
            "height": 720,
            "url": "https://i.ytimg.com/vi/CiO0o20qo0I/maxresdefault.jpg",
            "width": 1280
           },
           "medium": {
            "height": 180,
            "url": "https://i.ytimg.com/vi/CiO0o20qo0I/mqdefault.jpg",
            "width": 320
           },
           "standard": {
            "height": 480,
            "url": "https://i.ytimg.com/vi/CiO0o20qo0I/sddefault.jpg",
            "width": 640
           }
          },
          "title": "한 강아지 덕분에 25년 만에 어머니를 만난  남자.. ㅣA Dog Acted As A Man’s Arms And Legs",
          "videoOwnerChannelId": "UC22go5LdQEw-iDuxFb4C0hw",
          "videoOwnerChannelTitle": "SBS TV동물농장x애니멀봐"
         }
        },
        {
         "contentDetails": {
          "videoId": "1WXinqCkyek",
          "videoPublishedAt": "2022-09-21T08:00:02Z"
         },
         "etag": "LEgmBD63DTiW9hBg16_50ykuwhU",
         "id": "VVUyMmdvNUxkUUV3LWlEdXhGYjRDMGh3LjFXWGlucUNreWVr",
         "kind": "youtube#playlistItem",
         "snippet": {
          "channelId": "UC22go5LdQEw-iDuxFb4C0hw",
          "channelTitle": "SBS TV동물농장x애니멀봐",
          "description": "제 1회 애니멀봐 배 귀여워서 기절대회 [오마이독]\n반려견과 휴대폰만 있다면 누구나 지원 가능한 부분.\n\n오마이독😱 참가 지원 하러가기 ⬇⬇⬇\nClick to apply for Oh My DOG participation ⬇⬇⬇\nhttps://forms.gle/U5J52P7prCvjTcDC7\n\n오마이독 참가 지원 선착순 100명에게는\n밥 맛이 기절할 만큼 좋은 철원 오대쌀 10kg를 드립니다 🍚\n\n✔참가 자격\n* 내가 귀여운 걸로' 왈'좀 한다는 전국의 모든 강아지들\n* 반려견과 휴대폰이 있는 집사라면 누구든지!\n* 반려동물등록이 완료된 강아지\n (🐾반려동물 등록하러 가기 https://ypet.co.kr/ypet/shop/animal.php)\n\n\n✔참가 방법\n* 참가 지원서 작성\n* 마이독 자기소개+개인기 or 가장 매력적인 모습이 담긴 영상 제출\n\n🎞 영상 길이는 최대 2분!\n🤳 촬영은 오직 휴대폰으로! (각종 필터 및 조명 효과 댓츠 노노우)\n\n\n✔지원 기간\n9월 15일(목)-9월 29일(목) 낮 12시까지\n\n\n#집에서함께애니멀봐 #오마이독 #지금바로지원하세요\n-------------------------------------------------\n애니멀봐와 한배타고⛵\n☞ https://goo.gl/WL9mGy\n\n심쿵유발 강아지 더 보기🐶\n☞ https://youtu.be/82ZsyXgxuwE\n\n아님 다른 동물 더 보고나서🐴\n☞ https://youtu.be/daYahm_6mIs\n\n[애니멀봐]와 베프되기\n　페이스북: https://www.facebook.com/sbstvanimal\n　인스타그램: https://www.instagram.com/sbsanimal\n　트위터: https://twitter.com/sbsyang\n\n-------------------------------------------------\n[Credit Music♪]\nㆍMusic provided by 브금대통령\n　- 도둑의 계획 ( https://bit.ly/3dqbLjf )",
          "playlistId": "UU22go5LdQEw-iDuxFb4C0hw",
          "position": 3,
          "publishedAt": "2022-09-21T08:00:02Z",
          "resourceId": {
           "kind": "youtube#video",
           "videoId": "1WXinqCkyek"
          },
          "thumbnails": {
           "default": {
            "height": 90,
            "url": "https://i.ytimg.com/vi/1WXinqCkyek/default.jpg",
            "width": 120
           },
           "high": {
            "height": 360,
            "url": "https://i.ytimg.com/vi/1WXinqCkyek/hqdefault.jpg",
            "width": 480
           },
           "maxres": {
            "height": 720,
            "url": "https://i.ytimg.com/vi/1WXinqCkyek/maxresdefault.jpg",
            "width": 1280
           },
           "medium": {
            "height": 180,
            "url": "https://i.ytimg.com/vi/1WXinqCkyek/mqdefault.jpg",
            "width": 320
           },
           "standard": {
            "height": 480,
            "url": "https://i.ytimg.com/vi/1WXinqCkyek/sddefault.jpg",
            "width": 640
           }
          },
          "title": "💰1등 상금 1000만원💰 동엽신이 묻습니다. 아직도 지원 안하셨어요?",
          "videoOwnerChannelId": "UC22go5LdQEw-iDuxFb4C0hw",
          "videoOwnerChannelTitle": "SBS TV동물농장x애니멀봐"
         }
        },
        {
         "contentDetails": {
          "videoId": "CaI5WGxM5Ig",
          "videoPublishedAt": "2022-09-20T23:00:04Z"
         },
         "etag": "gChPYca-jVsDblkAAVlPtwov5c8",
         "id": "VVUyMmdvNUxkUUV3LWlEdXhGYjRDMGh3LkNhSTVXR3hNNUln",
         "kind": "youtube#playlistItem",
         "snippet": {
          "channelId": "UC22go5LdQEw-iDuxFb4C0hw",
          "channelTitle": "SBS TV동물농장x애니멀봐",
          "description": "＂ 몸집이 작고 가볍다고 생명의 무게가 가벼운 건 아니잖아요 ＂\n생사의 갈림길에 선 동물들 곁엔 그들이 있다..\n\n#집에서함께애니멀봐 #동물들의생명을지키는 #나는VETMAN이다\n-------------------------------------------------\n애니멀봐와 한배타고⛵\n☞ https://goo.gl/WL9mGy\n\n생명을 살리는 수의사 더 보기🩺\n☞ https://youtu.be/vE4smONqj3c\n\n아님 다른 동물 더 보고나서🦁\n☞ https://youtu.be/Nu87o5AgcoY\n\n[애니멀봐]와 베프되기\n　페이스북: https://www.facebook.com/sbstvanimal\n　인스타그램: https://www.instagram.com/sbsanimal\n　트위터: https://twitter.com/sbsyang",
          "playlistId": "UU22go5LdQEw-iDuxFb4C0hw",
          "position": 4,
          "publishedAt": "2022-09-20T23:00:04Z",
          "resourceId": {
           "kind": "youtube#video",
           "videoId": "CaI5WGxM5Ig"
          },
          "thumbnails": {
           "default": {
            "height": 90,
            "url": "https://i.ytimg.com/vi/CaI5WGxM5Ig/default.jpg",
            "width": 120
           },
           "high": {
            "height": 360,
            "url": "https://i.ytimg.com/vi/CaI5WGxM5Ig/hqdefault.jpg",
            "width": 480
           },
           "maxres": {
            "height": 720,
            "url": "https://i.ytimg.com/vi/CaI5WGxM5Ig/maxresdefault.jpg",
            "width": 1280
           },
           "medium": {
            "height": 180,
            "url": "https://i.ytimg.com/vi/CaI5WGxM5Ig/mqdefault.jpg",
            "width": 320
           },
           "standard": {
            "height": 480,
            "url": "https://i.ytimg.com/vi/CaI5WGxM5Ig/sddefault.jpg",
            "width": 640
           }
          },
          "title": "이 고슴도치는 잠시 후 태어나 처음으로 큰 일을 겪게 됩니다ㅣHedgehog Is Facing The Biggest Surgery In Its Life",
          "videoOwnerChannelId": "UC22go5LdQEw-iDuxFb4C0hw",
          "videoOwnerChannelTitle": "SBS TV동물농장x애니멀봐"
         }
        }
       ],
       "kind": "youtube#playlistItemListResponse",
       "nextPageToken": "EAAaBlBUOkNBVQ",
       "pageInfo": {
        "resultsPerPage": 5,
        "totalResults": 3718
       }
      },
      "text/plain": [
       "<IPython.core.display.JSON object>"
      ]
     },
     "execution_count": 11,
     "metadata": {
      "application/json": {
       "expanded": false,
       "root": "root"
      }
     },
     "output_type": "execute_result"
    }
   ],
   "source": [
    "request = youtube.playlistItems().list(\n",
    "        part=\"snippet,contentDetails\",\n",
    "        playlistId='UU22go5LdQEw-iDuxFb4C0hw'\n",
    ")\n",
    "response = request.execute()\n",
    "\n",
    "JSON(response)"
   ]
  },
  {
   "cell_type": "code",
   "execution_count": 12,
   "id": "f01751bb-4065-4ee0-ae93-afdc4f2f4567",
   "metadata": {},
   "outputs": [],
   "source": [
    "def get_video_details(youtube, video_ids):\n",
    "    \"\"\"\n",
    "    Get video statistics of all videos with given IDs\n",
    "    Params:\n",
    "    \n",
    "    youtube: the build object from googleapiclient.discovery\n",
    "    video_ids: list of video IDs\n",
    "    \n",
    "    Returns:\n",
    "    Dataframe with statistics of videos, i.e.:\n",
    "        'channelTitle', 'title', 'description', 'tags', 'publishedAt'\n",
    "        'viewCount', 'likeCount', 'favoriteCount', 'commentCount'\n",
    "        'duration', 'definition', 'caption'\n",
    "    \"\"\"\n",
    "        \n",
    "    all_video_info = []\n",
    "    \n",
    "    for i in range(0, len(video_ids), 50):\n",
    "        request = youtube.videos().list(\n",
    "            part=\"snippet,contentDetails,statistics\",\n",
    "            id=','.join(video_ids[i:i+50])\n",
    "        )\n",
    "        response = request.execute() \n",
    "\n",
    "        for video in response['items']:\n",
    "            stats_to_keep = {'snippet': ['channelTitle', 'title', 'description', 'tags', 'publishedAt'],\n",
    "                             'statistics': ['viewCount', 'likeCount', 'favouriteCount', 'commentCount'],\n",
    "                             'contentDetails': ['duration', 'definition', 'caption']\n",
    "                            }\n",
    "            video_info = {}\n",
    "            video_info['video_id'] = video['id']\n",
    "\n",
    "            for k in stats_to_keep.keys():\n",
    "                for v in stats_to_keep[k]:\n",
    "                    try:\n",
    "                        video_info[v] = video[k][v]\n",
    "                    except:\n",
    "                        video_info[v] = None\n",
    "\n",
    "            all_video_info.append(video_info)\n",
    "            #return pd.DataFrame(all_video_info)"
   ]
  },
  {
   "cell_type": "code",
   "execution_count": 13,
   "id": "0aed8eb9-b961-48be-899e-df1c6fbc0385",
   "metadata": {},
   "outputs": [
    {
     "name": "stdout",
     "output_type": "stream",
     "text": [
      "['0R1LCYpiQsw', 'AopGnnPPczY', 'tBfIh3VQX2o', 'i8PKI_zJfDU', 'lw6sPHH7twk', '5Q0gB7imNOo', 'MSlIfGSI6bo', 'NQSe-SuykJU', 'W5qAY4XidHE', '09JnFEdZe2A', 'GEBzsz8ZSXs', 'NAuuqdzC_rI', 'CC66RXeTn_4', 'aqRxZSrJLEc', 'U4vh2EClJic', 'egtF-C5WIpk', '1sQDJSQBUe4', 'NrVYzpy4Xns', 'y3TxcejHw-4', '1kU_ASADlPY', 'TeZVQ9hsgTM', 'VrdnBxx8BBI', 'W_mC_I0_fx4', 'Zcy-ND_4ydQ', 'VchXKvfCi3s', 'z5mAumgV2rA', 'cIZWgPmpRVc', '78LMtFItAdw', 'ZWqH5emDdOI', 'BEKXRqqgHCw', '3Ao2FV1r5-8', '3TBwY4VjLX8', 'aw14VK9sN2s', 'DNJfUPfSZpY', 'MfUzKeEKtr8', 'DGrszAeMZJI', 'jp-Lv_3a2VI', 'Ush_KFSKNgg', 'fmLPS6FBbac', '_r655ogzK4A', 'YZkcEtWgMGw', 'axgNfM55dw8', 'GmTD-MBea_E', 'X4DBQTl7AfI', 'hWs_q9NBBKM', 'W6N8n99htvw', '18ZYDDIgIiM', 'Vor_OkEnxAA', 'xzR4L_XYW3g', 'aULGH7zts0c', 'GZKDG2pyKhI', 'sW2w10lL1LM', 'vyPm2fOyS7Y', 'YCcC8LQ5RGU', 'AfG4jS13X5c', 'Dt2hHmTkoMg', 'p04t7Ho-DEM', 'MJOYxUU0wRg', 'WslmhWukJdM', 'MADnq-md0yw', 'NnfbVOt9IR0', 'eCN_GRRAoF8', '-3S_fS4yNA8', 'ip_HcMI0EQQ', 'UuwlySU7Hjg', 'qI0uJsLweoM', 'HvAjnpA6mlA', 'sh_EZ9MEdsk', 'xfAcErzOKN4', '9T-B7mBgYjs', '7Sdzs3fF5kw', 'HAY-3TnAi7Y', 'u5HVoEA6KVU', 'hB8Pbj870nI', 'FQiehwXLKV4', 'IdZuTave8QY', 'W_5x9mURZe4', 'sgS4TauqhJM', 'O8j7FeA9J_U']\n"
     ]
    }
   ],
   "source": [
    "print(video_ids)\n",
    "video_df = get_video_details(youtube, video_ids)"
   ]
  },
  {
   "cell_type": "code",
   "execution_count": 14,
   "id": "c4c7155f-9171-4047-8834-547d47664570",
   "metadata": {},
   "outputs": [],
   "source": [
    "video_df"
   ]
  },
  {
   "cell_type": "code",
   "execution_count": 15,
   "id": "939fbbac-8ff8-4d2a-9cc7-37cf8a1fc861",
   "metadata": {},
   "outputs": [],
   "source": [
    "def get_comments_in_videos(youtube, video_ids):\n",
    "    \"\"\"\n",
    "    Get top level comments as text from all videos with given IDs (only the first 10 comments due to quote limit of Youtube API)\n",
    "    Params:\n",
    "    \n",
    "    youtube: the build object from googleapiclient.discovery\n",
    "    video_ids: list of video IDs\n",
    "    \n",
    "    Returns:\n",
    "    Dataframe with video IDs and associated top level comment in text.\n",
    "    \n",
    "    \"\"\"\n",
    "    all_comments = []\n",
    "    \n",
    "    for video_id in video_ids:\n",
    "        try:   \n",
    "            request = youtube.commentThreads().list(\n",
    "                part=\"snippet,replies\",\n",
    "                videoId=video_id\n",
    "            )\n",
    "            response = request.execute()\n",
    "        \n",
    "            comments_in_video = [comment['snippet']['topLevelComment']['snippet']['textOriginal'] for comment in response['items'][0:10]]\n",
    "            comments_in_video_info = {'video_id': video_id, 'comments': comments_in_video}\n",
    "\n",
    "            all_comments.append(comments_in_video_info)\n",
    "            \n",
    "        except: \n",
    "            # When error occurs - most likely because comments are disabled on a video\n",
    "            print('Could not get comments for video ' + video_id)\n",
    "        \n",
    "    return pd.DataFrame(all_comments)   "
   ]
  },
  {
   "cell_type": "code",
   "execution_count": 16,
   "id": "a65a430d-88a8-4ac4-9ac9-c59c88ded54a",
   "metadata": {},
   "outputs": [],
   "source": [
    "comments = get_comments_in_videos(youtube, video_ids)"
   ]
  },
  {
   "cell_type": "code",
   "execution_count": 17,
   "id": "2f0db2d7-c3cb-4e54-a5b0-a063b8fa9072",
   "metadata": {},
   "outputs": [
    {
     "data": {
      "text/html": [
       "<div>\n",
       "<style scoped>\n",
       "    .dataframe tbody tr th:only-of-type {\n",
       "        vertical-align: middle;\n",
       "    }\n",
       "\n",
       "    .dataframe tbody tr th {\n",
       "        vertical-align: top;\n",
       "    }\n",
       "\n",
       "    .dataframe thead th {\n",
       "        text-align: right;\n",
       "    }\n",
       "</style>\n",
       "<table border=\"1\" class=\"dataframe\">\n",
       "  <thead>\n",
       "    <tr style=\"text-align: right;\">\n",
       "      <th></th>\n",
       "      <th>video_id</th>\n",
       "      <th>comments</th>\n",
       "    </tr>\n",
       "  </thead>\n",
       "  <tbody>\n",
       "    <tr>\n",
       "      <th>0</th>\n",
       "      <td>0R1LCYpiQsw</td>\n",
       "      <td>[Data Nerds, I need your help!! I'm looking fo...</td>\n",
       "    </tr>\n",
       "    <tr>\n",
       "      <th>1</th>\n",
       "      <td>AopGnnPPczY</td>\n",
       "      <td>[DATA NERDS, I'M BACK!!!!! 🤓 🙌🏼\\nThank y'all s...</td>\n",
       "    </tr>\n",
       "    <tr>\n",
       "      <th>2</th>\n",
       "      <td>tBfIh3VQX2o</td>\n",
       "      <td>[What’s the most advanced math you’ve used wit...</td>\n",
       "    </tr>\n",
       "    <tr>\n",
       "      <th>3</th>\n",
       "      <td>i8PKI_zJfDU</td>\n",
       "      <td>[2:46 Morale of the story: always Subscribe to...</td>\n",
       "    </tr>\n",
       "    <tr>\n",
       "      <th>4</th>\n",
       "      <td>lw6sPHH7twk</td>\n",
       "      <td>[Data Nerds!! Shoutout to ChartMogul for spons...</td>\n",
       "    </tr>\n",
       "    <tr>\n",
       "      <th>...</th>\n",
       "      <td>...</td>\n",
       "      <td>...</td>\n",
       "    </tr>\n",
       "    <tr>\n",
       "      <th>74</th>\n",
       "      <td>FQiehwXLKV4</td>\n",
       "      <td>[Can you post a video about how to conditional...</td>\n",
       "    </tr>\n",
       "    <tr>\n",
       "      <th>75</th>\n",
       "      <td>IdZuTave8QY</td>\n",
       "      <td>[Thank you Luke! You are a great instructor!, ...</td>\n",
       "    </tr>\n",
       "    <tr>\n",
       "      <th>76</th>\n",
       "      <td>W_5x9mURZe4</td>\n",
       "      <td>[Hey Luke, just finished the Google Data Analy...</td>\n",
       "    </tr>\n",
       "    <tr>\n",
       "      <th>77</th>\n",
       "      <td>sgS4TauqhJM</td>\n",
       "      <td>[Great vid! Completing a cert myself now, Than...</td>\n",
       "    </tr>\n",
       "    <tr>\n",
       "      <th>78</th>\n",
       "      <td>O8j7FeA9J_U</td>\n",
       "      <td>[Hey @Luke\\nI have a shared Google sheet via G...</td>\n",
       "    </tr>\n",
       "  </tbody>\n",
       "</table>\n",
       "<p>79 rows × 2 columns</p>\n",
       "</div>"
      ],
      "text/plain": [
       "       video_id                                           comments\n",
       "0   0R1LCYpiQsw  [Data Nerds, I need your help!! I'm looking fo...\n",
       "1   AopGnnPPczY  [DATA NERDS, I'M BACK!!!!! 🤓 🙌🏼\\nThank y'all s...\n",
       "2   tBfIh3VQX2o  [What’s the most advanced math you’ve used wit...\n",
       "3   i8PKI_zJfDU  [2:46 Morale of the story: always Subscribe to...\n",
       "4   lw6sPHH7twk  [Data Nerds!! Shoutout to ChartMogul for spons...\n",
       "..          ...                                                ...\n",
       "74  FQiehwXLKV4  [Can you post a video about how to conditional...\n",
       "75  IdZuTave8QY  [Thank you Luke! You are a great instructor!, ...\n",
       "76  W_5x9mURZe4  [Hey Luke, just finished the Google Data Analy...\n",
       "77  sgS4TauqhJM  [Great vid! Completing a cert myself now, Than...\n",
       "78  O8j7FeA9J_U  [Hey @Luke\\nI have a shared Google sheet via G...\n",
       "\n",
       "[79 rows x 2 columns]"
      ]
     },
     "execution_count": 17,
     "metadata": {},
     "output_type": "execute_result"
    }
   ],
   "source": [
    "comments"
   ]
  },
  {
   "cell_type": "code",
   "execution_count": 18,
   "id": "86cc058e-c407-48db-a944-245f9d50128c",
   "metadata": {},
   "outputs": [
    {
     "ename": "AttributeError",
     "evalue": "'NoneType' object has no attribute 'isnull'",
     "output_type": "error",
     "traceback": [
      "\u001b[0;31m---------------------------------------------------------------------------\u001b[0m",
      "\u001b[0;31mAttributeError\u001b[0m                            Traceback (most recent call last)",
      "Input \u001b[0;32mIn [18]\u001b[0m, in \u001b[0;36m<cell line: 1>\u001b[0;34m()\u001b[0m\n\u001b[0;32m----> 1\u001b[0m \u001b[43mvideo_df\u001b[49m\u001b[38;5;241;43m.\u001b[39;49m\u001b[43misnull\u001b[49m()\u001b[38;5;241m.\u001b[39many()\n",
      "\u001b[0;31mAttributeError\u001b[0m: 'NoneType' object has no attribute 'isnull'"
     ]
    }
   ],
   "source": [
    "video_df.isnull().any()"
   ]
  },
  {
   "cell_type": "code",
   "execution_count": null,
   "id": "ddb87306-7788-4b04-b221-2c6d4e1a627b",
   "metadata": {},
   "outputs": [],
   "source": [
    "video_df.dtypes"
   ]
  },
  {
   "cell_type": "code",
   "execution_count": 19,
   "id": "b5d288ac-16df-4e03-81cf-87fe6705e71b",
   "metadata": {},
   "outputs": [
    {
     "ename": "TypeError",
     "evalue": "'NoneType' object is not subscriptable",
     "output_type": "error",
     "traceback": [
      "\u001b[0;31m---------------------------------------------------------------------------\u001b[0m",
      "\u001b[0;31mTypeError\u001b[0m                                 Traceback (most recent call last)",
      "Input \u001b[0;32mIn [19]\u001b[0m, in \u001b[0;36m<cell line: 3>\u001b[0;34m()\u001b[0m\n\u001b[1;32m      1\u001b[0m \u001b[38;5;66;03m# Convert count columns to numeric columns\u001b[39;00m\n\u001b[1;32m      2\u001b[0m numeric_cols \u001b[38;5;241m=\u001b[39m [\u001b[38;5;124m'\u001b[39m\u001b[38;5;124mviewCount\u001b[39m\u001b[38;5;124m'\u001b[39m, \u001b[38;5;124m'\u001b[39m\u001b[38;5;124mlikeCount\u001b[39m\u001b[38;5;124m'\u001b[39m, \u001b[38;5;124m'\u001b[39m\u001b[38;5;124mfavouriteCount\u001b[39m\u001b[38;5;124m'\u001b[39m,\u001b[38;5;124m'\u001b[39m\u001b[38;5;124mcommentCount\u001b[39m\u001b[38;5;124m'\u001b[39m]\n\u001b[0;32m----> 3\u001b[0m video_df[numeric_cols] \u001b[38;5;241m=\u001b[39m \u001b[43mvideo_df\u001b[49m\u001b[43m[\u001b[49m\u001b[43mnumeric_cols\u001b[49m\u001b[43m]\u001b[49m\u001b[38;5;241m.\u001b[39mapply(pd\u001b[38;5;241m.\u001b[39mto_numeric, errors\u001b[38;5;241m=\u001b[39m\u001b[38;5;124m'\u001b[39m\u001b[38;5;124mcoerce\u001b[39m\u001b[38;5;124m'\u001b[39m,axis\u001b[38;5;241m=\u001b[39m\u001b[38;5;241m1\u001b[39m)\n",
      "\u001b[0;31mTypeError\u001b[0m: 'NoneType' object is not subscriptable"
     ]
    }
   ],
   "source": [
    "# Convert count columns to numeric columns\n",
    "numeric_cols = ['viewCount', 'likeCount', 'favouriteCount','commentCount']\n",
    "video_df[numeric_cols] = video_df[numeric_cols].apply(pd.to_numeric, errors='coerce',axis=1)"
   ]
  },
  {
   "cell_type": "code",
   "execution_count": null,
   "id": "3210b15f-f7d8-42cb-a4b6-da7df715199f",
   "metadata": {},
   "outputs": [],
   "source": [
    "# Create publish day (in the week) column\n",
    "video_df['publishedAt'] =  video_df['publishedAt'].apply(lambda x: parser.parse(x)) \n",
    "video_df['pushblishDayName'] = video_df['publishedAt'].apply(lambda x: x.strftime(\"%A\")) "
   ]
  },
  {
   "cell_type": "code",
   "execution_count": null,
   "id": "f16c55b1-8865-45f7-b216-c626274a5462",
   "metadata": {},
   "outputs": [],
   "source": [
    "# convert duration to seconds\n",
    "video_df['durationSecs'] = video_df['duration'].apply(lambda x: isodate.parse_duration(x))\n",
    "video_df['durationSecs'] = video_df['durationSecs'].astype('timedelta64[s]')"
   ]
  },
  {
   "cell_type": "code",
   "execution_count": null,
   "id": "024b4bfa-a7cc-41e7-b27e-8e7fbd54b9c1",
   "metadata": {},
   "outputs": [],
   "source": [
    "# Add number of tags\n",
    "video_df['tagsCount'] = video_df['tags'].apply(lambda x: 0 if x is None else len(x))"
   ]
  },
  {
   "cell_type": "code",
   "execution_count": null,
   "id": "0accba21-629e-4151-8e91-dca2c0e798d6",
   "metadata": {},
   "outputs": [],
   "source": [
    "# Comments and likes per 1000 view ratio\n",
    "video_df['likeRatio'] = video_df['likeCount']/ video_df['viewCount'] * 1000\n",
    "video_df['commentRatio'] = video_df['commentCount']/ video_df['viewCount'] * 1000"
   ]
  },
  {
   "cell_type": "code",
   "execution_count": null,
   "id": "030f2ebf-c559-46e1-a642-abfbca6614a8",
   "metadata": {},
   "outputs": [],
   "source": [
    "# Title character length\n",
    "video_df['titleLength'] = video_df['title'].apply(lambda x: len(x))"
   ]
  },
  {
   "cell_type": "code",
   "execution_count": null,
   "id": "16b4e13f-b981-4daf-b6f3-c38530ad32bb",
   "metadata": {},
   "outputs": [],
   "source": [
    "video_df.head()"
   ]
  },
  {
   "cell_type": "code",
   "execution_count": null,
   "id": "ef840075-0a68-48b6-91c3-265034025414",
   "metadata": {},
   "outputs": [
    {
     "name": "stdout",
     "output_type": "stream",
     "text": [
      "Getting video information from channel: Tina Huang\n"
     ]
    },
    {
     "name": "stderr",
     "output_type": "stream",
     "text": [
      "/var/folders/pk/x12wsw4d1lv9831hq79tsyvh0000gn/T/ipykernel_940/893411185.py:17: FutureWarning: The frame.append method is deprecated and will be removed from pandas in a future version. Use pandas.concat instead.\n",
      "  video_df = video_df.append(video_data, ignore_index=True)\n",
      "/var/folders/pk/x12wsw4d1lv9831hq79tsyvh0000gn/T/ipykernel_940/893411185.py:18: FutureWarning: The frame.append method is deprecated and will be removed from pandas in a future version. Use pandas.concat instead.\n",
      "  comments_df = comments_df.append(comments_data, ignore_index=True)\n"
     ]
    },
    {
     "name": "stdout",
     "output_type": "stream",
     "text": [
      "Getting video information from channel: Corey Schafer\n",
      "Could not get comments for video ZB7c00QgmdQ\n"
     ]
    },
    {
     "name": "stderr",
     "output_type": "stream",
     "text": [
      "/var/folders/pk/x12wsw4d1lv9831hq79tsyvh0000gn/T/ipykernel_940/893411185.py:17: FutureWarning: The frame.append method is deprecated and will be removed from pandas in a future version. Use pandas.concat instead.\n",
      "  video_df = video_df.append(video_data, ignore_index=True)\n",
      "/var/folders/pk/x12wsw4d1lv9831hq79tsyvh0000gn/T/ipykernel_940/893411185.py:18: FutureWarning: The frame.append method is deprecated and will be removed from pandas in a future version. Use pandas.concat instead.\n",
      "  comments_df = comments_df.append(comments_data, ignore_index=True)\n"
     ]
    },
    {
     "name": "stdout",
     "output_type": "stream",
     "text": [
      "Getting video information from channel: sentdex\n",
      "Could not get comments for video XfzbZm89z3o\n"
     ]
    },
    {
     "name": "stderr",
     "output_type": "stream",
     "text": [
      "/var/folders/pk/x12wsw4d1lv9831hq79tsyvh0000gn/T/ipykernel_940/893411185.py:17: FutureWarning: The frame.append method is deprecated and will be removed from pandas in a future version. Use pandas.concat instead.\n",
      "  video_df = video_df.append(video_data, ignore_index=True)\n",
      "/var/folders/pk/x12wsw4d1lv9831hq79tsyvh0000gn/T/ipykernel_940/893411185.py:18: FutureWarning: The frame.append method is deprecated and will be removed from pandas in a future version. Use pandas.concat instead.\n",
      "  comments_df = comments_df.append(comments_data, ignore_index=True)\n"
     ]
    },
    {
     "name": "stdout",
     "output_type": "stream",
     "text": [
      "Getting video information from channel: Krish Naik\n",
      "Could not get comments for video sjq1OhMzSSU\n"
     ]
    }
   ],
   "source": [
    "# Create a dataframe with video statistics and comments from all channels\n",
    "\n",
    "video_df = pd.DataFrame()\n",
    "comments_df = pd.DataFrame()\n",
    "\n",
    "for c in channel_data['channelName'].unique():\n",
    "    print(\"Getting video information from channel: \" + c)\n",
    "    playlist_id = channel_data.loc[channel_data['channelName']== c, 'playlistId'].iloc[0]\n",
    "    video_ids = get_video_ids(youtube, playlist_id)\n",
    "    \n",
    "    # get video data\n",
    "    video_data = get_video_details(youtube, video_ids)\n",
    "    # get comment data\n",
    "    comments_data = get_comments_in_videos(youtube, video_ids)\n",
    "\n",
    "    # append video data together and comment data toghether\n",
    "    video_df = video_df.append(video_data, ignore_index=True)\n",
    "    comments_df = comments_df.append(comments_data, ignore_index=True)"
   ]
  },
  {
   "cell_type": "code",
   "execution_count": null,
   "id": "070ec241-5b69-43ed-8e33-3bb22a87ad30",
   "metadata": {},
   "outputs": [],
   "source": []
  },
  {
   "cell_type": "code",
   "execution_count": null,
   "id": "7e653deb-09c2-4d4a-8633-97149125bccb",
   "metadata": {},
   "outputs": [],
   "source": []
  },
  {
   "cell_type": "code",
   "execution_count": null,
   "id": "0a8f0119-1fc4-4a49-b806-c53b34e15e77",
   "metadata": {},
   "outputs": [],
   "source": []
  },
  {
   "cell_type": "code",
   "execution_count": null,
   "id": "753a4783-3b1d-4e6f-bd87-a3f42ab296a7",
   "metadata": {},
   "outputs": [],
   "source": []
  },
  {
   "cell_type": "code",
   "execution_count": null,
   "id": "fed253e4-d33e-4512-b081-652a9f216404",
   "metadata": {},
   "outputs": [],
   "source": []
  },
  {
   "cell_type": "code",
   "execution_count": null,
   "id": "9188e934-d51d-42bd-9160-aa91995136de",
   "metadata": {},
   "outputs": [],
   "source": []
  },
  {
   "cell_type": "code",
   "execution_count": null,
   "id": "9dbecea0-f295-4e53-8ecd-a977141c6b0f",
   "metadata": {},
   "outputs": [],
   "source": []
  },
  {
   "cell_type": "code",
   "execution_count": null,
   "id": "d8bfdd35-e724-43cc-a58e-da01fc5c3eb1",
   "metadata": {},
   "outputs": [],
   "source": []
  }
 ],
 "metadata": {
  "kernelspec": {
   "display_name": "Python 3.10.6 64-bit",
   "language": "python",
   "name": "python3"
  },
  "language_info": {
   "codemirror_mode": {
    "name": "ipython",
    "version": 3
   },
   "file_extension": ".py",
   "mimetype": "text/x-python",
   "name": "python",
   "nbconvert_exporter": "python",
   "pygments_lexer": "ipython3",
   "version": "3.10.6"
  },
  "vscode": {
   "interpreter": {
    "hash": "aee8b7b246df8f9039afb4144a1f6fd8d2ca17a180786b69acc140d282b71a49"
   }
  }
 },
 "nbformat": 4,
 "nbformat_minor": 5
}
