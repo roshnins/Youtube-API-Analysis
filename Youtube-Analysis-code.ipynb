{
 "cells": [
  {
   "cell_type": "code",
   "execution_count": 8,
   "id": "90986ff5-d003-469d-8d7a-5cfda9e90efa",
   "metadata": {},
   "outputs": [
    {
     "name": "stdout",
     "output_type": "stream",
     "text": [
      "showing info https://raw.githubusercontent.com/nltk/nltk_data/gh-pages/index.xml\n"
     ]
    },
    {
     "name": "stderr",
     "output_type": "stream",
     "text": [
      "[nltk_data] Downloading package stopwords to\n",
      "[nltk_data]     /Users/roshnisaravanan/nltk_data...\n",
      "[nltk_data]   Package stopwords is already up-to-date!\n",
      "[nltk_data] Downloading package punkt to\n",
      "[nltk_data]     /Users/roshnisaravanan/nltk_data...\n",
      "[nltk_data]   Package punkt is already up-to-date!\n"
     ]
    }
   ],
   "source": [
    "from googleapiclient.discovery import build\n",
    "from dateutil import parser\n",
    "import pandas as pd\n",
    "from IPython.display import JSON\n",
    "\n",
    "# Data viz packages\n",
    "import seaborn as sns\n",
    "import matplotlib.pyplot as plt\n",
    "import matplotlib.ticker as ticker\n",
    "\n",
    "# NLP\n",
    "import nltk\n",
    "import ssl\n",
    "\n",
    "try:\n",
    "    _create_unverified_https_context = ssl._create_unverified_context\n",
    "except AttributeError:\n",
    "    pass\n",
    "else:\n",
    "    ssl._create_default_https_context = _create_unverified_https_context\n",
    "\n",
    "nltk.download()\n",
    "\n",
    "from nltk.corpus import stopwords\n",
    "from nltk.tokenize import word_tokenize\n",
    "nltk.download('stopwords')\n",
    "nltk.download('punkt')\n",
    "from wordcloud import WordCloud\n",
    "\n",
    "#from lib import helpers"
   ]
  },
  {
   "cell_type": "code",
   "execution_count": 17,
   "id": "59f14f8e-b7e6-4a92-9d95-aa0da647087d",
   "metadata": {},
   "outputs": [],
   "source": [
    "api_key = ''"
   ]
  },
  {
   "cell_type": "code",
   "execution_count": 15,
   "id": "2dc2614a-3d81-4971-b879-da9af97b7d0c",
   "metadata": {},
   "outputs": [],
   "source": [
    "channel_ids = ['UC22go5LdQEw-iDuxFb4C0hw',]"
   ]
  },
  {
   "cell_type": "code",
   "execution_count": 19,
   "id": "e995acb8-7b47-4b3b-9cae-48232ac64f45",
   "metadata": {},
   "outputs": [
    {
     "data": {
      "application/json": {
       "etag": "yMND3uw7sX1YV4sSB4nSJl-_psc",
       "items": [
        {
         "contentDetails": {
          "relatedPlaylists": {
           "likes": "",
           "uploads": "UU22go5LdQEw-iDuxFb4C0hw"
          }
         },
         "etag": "13RW40YuGbM8WuQHwrxcdEFRYH4",
         "id": "UC22go5LdQEw-iDuxFb4C0hw",
         "kind": "youtube#channel",
         "snippet": {
          "country": "KR",
          "customUrl": "@sbstvx",
          "defaultLanguage": "en",
          "description": "Hello, all animal lovers! \nWelcome! It's so great to have you join us. \nThis is the official YouTube channel of Korea's SBS Animal Farm program \nthat has communed with animals since 2001 until now.  \n\nVarious genre of stories featuring animals!!! \nPlease subscribe and meet us every day! \nThank you! \n\n☆We also have an official English version channel. \n [Kritter Klub]  ↓↓↓\nhttps://www.youtube.com/c/KritterKlub\n\n\n▶Contents Copyright and Sales inquiry : contentspartner@sbs.co.kr\nⓒSBS. Corp ALL RIGHTS RESERVED\n\n----------------------------------------------------------------------------------------------------------------------\nSBS 동물농장 x 애니멀봐' 공식 유튜브 채널입니다! \n\n2001년 부터 지금까지, 동물과 교감해온 동물농장의 모든 순간★\n이제 유튜브에서 매일 만나요!\n바로 구독하고 재미있는 동물 동영상 보고가세요~\n\n\"지금 뭐해~? 애니멀봐!\"\n\n☆애니멀봐 공식 영문계정 [Kritter Klub] ↓↓↓\nhttps://www.youtube.com/c/KritterKlub\n\n▶저작권 및 제휴·마케팅 문의: contentspartner@sbs.co.kr\nⓒSBS. Corp ALL RIGHTS RESERVED",
          "localized": {
           "description": "Hello, all animal lovers! \nWelcome! It's so great to have you join us. \nThis is the official YouTube channel of Korea's SBS Animal Farm program \nthat has communed with animals since 2001 until now.  \n\nVarious genre of stories featuring animals!!! \nPlease subscribe and meet us every day! \nThank you! \n\n☆We also have an official English version channel. \n [Kritter Klub]  ↓↓↓\nhttps://www.youtube.com/c/KritterKlub\n\n\n▶Contents Copyright and Sales inquiry : contentspartner@sbs.co.kr\nⓒSBS. Corp ALL RIGHTS RESERVED\n\n----------------------------------------------------------------------------------------------------------------------\nSBS 동물농장 x 애니멀봐' 공식 유튜브 채널입니다! \n\n2001년 부터 지금까지, 동물과 교감해온 동물농장의 모든 순간★\n이제 유튜브에서 매일 만나요!\n바로 구독하고 재미있는 동물 동영상 보고가세요~\n\n\"지금 뭐해~? 애니멀봐!\"\n\n☆애니멀봐 공식 영문계정 [Kritter Klub] ↓↓↓\nhttps://www.youtube.com/c/KritterKlub\n\n▶저작권 및 제휴·마케팅 문의: contentspartner@sbs.co.kr\nⓒSBS. Corp ALL RIGHTS RESERVED",
           "title": "SBS TV동물농장x애니멀봐"
          },
          "publishedAt": "2015-09-03T08:46:36Z",
          "thumbnails": {
           "default": {
            "height": 88,
            "url": "https://yt3.ggpht.com/ytc/AMLnZu-Ytrip_vaQ1MPSC4UszQgyE1dPePHFp_xx-jF6ug=s88-c-k-c0x00ffffff-no-rj",
            "width": 88
           },
           "high": {
            "height": 800,
            "url": "https://yt3.ggpht.com/ytc/AMLnZu-Ytrip_vaQ1MPSC4UszQgyE1dPePHFp_xx-jF6ug=s800-c-k-c0x00ffffff-no-rj",
            "width": 800
           },
           "medium": {
            "height": 240,
            "url": "https://yt3.ggpht.com/ytc/AMLnZu-Ytrip_vaQ1MPSC4UszQgyE1dPePHFp_xx-jF6ug=s240-c-k-c0x00ffffff-no-rj",
            "width": 240
           }
          },
          "title": "SBS TV동물농장x애니멀봐"
         },
         "statistics": {
          "hiddenSubscriberCount": false,
          "subscriberCount": "4690000",
          "videoCount": "3716",
          "viewCount": "4390602285"
         }
        }
       ],
       "kind": "youtube#channelListResponse",
       "pageInfo": {
        "resultsPerPage": 5,
        "totalResults": 1
       }
      },
      "text/plain": [
       "<IPython.core.display.JSON object>"
      ]
     },
     "execution_count": 19,
     "metadata": {
      "application/json": {
       "expanded": false,
       "root": "root"
      }
     },
     "output_type": "execute_result"
    }
   ],
   "source": [
    "api_service_name = \"youtube\"\n",
    "api_version = \"v3\"\n",
    "\n",
    "\n",
    "# Get credentials and create an API client\n",
    "youtube = build(\n",
    "    api_service_name, api_version, developerKey=api_key)\n",
    "\n",
    "request = youtube.channels().list(\n",
    "        part=\"snippet,contentDetails,statistics\",\n",
    "        id=','.join(channel_ids)\n",
    ")\n",
    "response = request.execute()\n",
    "\n",
    "JSON(response)"
   ]
  },
  {
   "cell_type": "code",
   "execution_count": 20,
   "id": "7b6ed557-b74d-4fa9-b559-806dad66fbb4",
   "metadata": {},
   "outputs": [],
   "source": [
    "def get_channel_stats(youtube, channel_ids):\n",
    "    \"\"\"\n",
    "    Get channel statistics: title, subscriber count, view count, video count, upload playlist\n",
    "    Params:\n",
    "    \n",
    "    youtube: the build object from googleapiclient.discovery\n",
    "    channels_ids: list of channel IDs\n",
    "    \n",
    "    Returns:\n",
    "    Dataframe containing the channel statistics for all channels in the provided list: title, subscriber count, view count, video count, upload playlist\n",
    "    \n",
    "    \"\"\"\n",
    "    all_data = []\n",
    "    request = youtube.channels().list(\n",
    "                part='snippet,contentDetails,statistics',\n",
    "                id=','.join(channel_ids))\n",
    "    response = request.execute() \n",
    "    \n",
    "    for i in range(len(response['items'])):\n",
    "        data = dict(channelName = response['items'][i]['snippet']['title'],\n",
    "                    subscribers = response['items'][i]['statistics']['subscriberCount'],\n",
    "                    views = response['items'][i]['statistics']['viewCount'],\n",
    "                    totalVideos = response['items'][i]['statistics']['videoCount'],\n",
    "                    playlistId = response['items'][i]['contentDetails']['relatedPlaylists']['uploads'])\n",
    "        all_data.append(data)\n",
    "    \n",
    "    return pd.DataFrame(all_data)"
   ]
  },
  {
   "cell_type": "code",
   "execution_count": 21,
   "id": "fc7a6491-73aa-41c6-b8a5-f83bd617c749",
   "metadata": {},
   "outputs": [],
   "source": [
    "channel_data = get_channel_stats(youtube, channel_ids)"
   ]
  },
  {
   "cell_type": "code",
   "execution_count": 22,
   "id": "d776265f-e1e0-4fac-8f9a-15f539339427",
   "metadata": {},
   "outputs": [
    {
     "data": {
      "text/html": [
       "<div>\n",
       "<style scoped>\n",
       "    .dataframe tbody tr th:only-of-type {\n",
       "        vertical-align: middle;\n",
       "    }\n",
       "\n",
       "    .dataframe tbody tr th {\n",
       "        vertical-align: top;\n",
       "    }\n",
       "\n",
       "    .dataframe thead th {\n",
       "        text-align: right;\n",
       "    }\n",
       "</style>\n",
       "<table border=\"1\" class=\"dataframe\">\n",
       "  <thead>\n",
       "    <tr style=\"text-align: right;\">\n",
       "      <th></th>\n",
       "      <th>channelName</th>\n",
       "      <th>subscribers</th>\n",
       "      <th>views</th>\n",
       "      <th>totalVideos</th>\n",
       "      <th>playlistId</th>\n",
       "    </tr>\n",
       "  </thead>\n",
       "  <tbody>\n",
       "    <tr>\n",
       "      <th>0</th>\n",
       "      <td>SBS TV동물농장x애니멀봐</td>\n",
       "      <td>4690000</td>\n",
       "      <td>4390602285</td>\n",
       "      <td>3716</td>\n",
       "      <td>UU22go5LdQEw-iDuxFb4C0hw</td>\n",
       "    </tr>\n",
       "  </tbody>\n",
       "</table>\n",
       "</div>"
      ],
      "text/plain": [
       "       channelName subscribers       views totalVideos  \\\n",
       "0  SBS TV동물농장x애니멀봐     4690000  4390602285        3716   \n",
       "\n",
       "                 playlistId  \n",
       "0  UU22go5LdQEw-iDuxFb4C0hw  "
      ]
     },
     "execution_count": 22,
     "metadata": {},
     "output_type": "execute_result"
    }
   ],
   "source": [
    "channel_data"
   ]
  },
  {
   "cell_type": "code",
   "execution_count": 40,
   "id": "9a4ece75-ac71-459e-9469-c44807690cb4",
   "metadata": {},
   "outputs": [],
   "source": [
    "playlist_id = 'UU22go5LdQEw-iDuxFb4C0hw'\n",
    "\n",
    "def get_video_ids(youtube, playlist_id):\n",
    "    \"\"\"\n",
    "    Get list of video IDs of all videos in the given playlist\n",
    "    Params:\n",
    "    \n",
    "    youtube: the build object from googleapiclient.discovery\n",
    "    playlist_id: playlist ID of the channel\n",
    "    \n",
    "    Returns:\n",
    "    List of video IDs of all videos in the playlist\n",
    "    \n",
    "    \"\"\"\n",
    "    \n",
    "    request = youtube.playlistItems().list(\n",
    "                part='contentDetails',\n",
    "                playlistId = playlist_id,\n",
    "                maxResults = 50)\n",
    "    response = request.execute()\n",
    "    \n",
    "    video_ids = []\n",
    "    \n",
    "    for i in range(len(response['items'])):\n",
    "        video_ids.append(response['items'][i]['contentDetails']['videoId'])\n",
    "        \n",
    "    next_page_token = response.get('nextPageToken')\n",
    "    more_pages = True\n",
    "    \n",
    "    while more_pages:\n",
    "        if next_page_token is None:\n",
    "            more_pages = False\n",
    "        else:\n",
    "            request = youtube.playlistItems().list(\n",
    "                        part='contentDetails',\n",
    "                        playlistId = playlist_id,\n",
    "                        maxResults = 50,\n",
    "                        pageToken = next_page_token)\n",
    "            response = request.execute()\n",
    "    \n",
    "            for i in range(len(response['items'])):\n",
    "                video_ids.append(response['items'][i]['contentDetails']['videoId'])\n",
    "            \n",
    "            next_page_token = response.get('nextPageToken')\n",
    "        \n",
    "    return video_ids"
   ]
  },
  {
   "cell_type": "code",
   "execution_count": 43,
   "id": "bfa00fd7-03f7-4076-aac2-1ae7c5505d04",
   "metadata": {},
   "outputs": [],
   "source": [
    "video_ids = get_video_ids(youtube, playlist_id)"
   ]
  },
  {
   "cell_type": "code",
   "execution_count": 45,
   "id": "fca08493-620e-4738-aaaf-4b9149c5bb10",
   "metadata": {},
   "outputs": [
    {
     "data": {
      "text/plain": [
       "3717"
      ]
     },
     "execution_count": 45,
     "metadata": {},
     "output_type": "execute_result"
    }
   ],
   "source": [
    "len(video_ids)"
   ]
  },
  {
   "cell_type": "code",
   "execution_count": 26,
   "id": "613a3f69-e8bc-4957-8cd7-3f2fa59b3478",
   "metadata": {},
   "outputs": [
    {
     "data": {
      "application/json": {
       "etag": "W-dNXMs79N4p8x0WVk8fCsv6ZRs",
       "items": [
        {
         "contentDetails": {
          "videoId": "u8pYEs5jwjE",
          "videoPublishedAt": "2022-09-22T08:00:53Z"
         },
         "etag": "GCpCqgrX00xegXlpv-6Ievw53Nc",
         "id": "VVUyMmdvNUxkUUV3LWlEdXhGYjRDMGh3LnU4cFlFczVqd2pF",
         "kind": "youtube#playlistItem",
         "snippet": {
          "channelId": "UC22go5LdQEw-iDuxFb4C0hw",
          "channelTitle": "SBS TV동물농장x애니멀봐",
          "description": "",
          "playlistId": "UU22go5LdQEw-iDuxFb4C0hw",
          "position": 0,
          "publishedAt": "2022-09-22T08:00:53Z",
          "resourceId": {
           "kind": "youtube#video",
           "videoId": "u8pYEs5jwjE"
          },
          "thumbnails": {
           "default": {
            "height": 90,
            "url": "https://i.ytimg.com/vi/u8pYEs5jwjE/default.jpg",
            "width": 120
           },
           "high": {
            "height": 360,
            "url": "https://i.ytimg.com/vi/u8pYEs5jwjE/hqdefault.jpg",
            "width": 480
           },
           "maxres": {
            "height": 720,
            "url": "https://i.ytimg.com/vi/u8pYEs5jwjE/maxresdefault.jpg",
            "width": 1280
           },
           "medium": {
            "height": 180,
            "url": "https://i.ytimg.com/vi/u8pYEs5jwjE/mqdefault.jpg",
            "width": 320
           },
           "standard": {
            "height": 480,
            "url": "https://i.ytimg.com/vi/u8pYEs5jwjE/sddefault.jpg",
            "width": 640
           }
          },
          "title": "제 1회 애니멀봐 천하제일 귀절대회 [오마이독]",
          "videoOwnerChannelId": "UC22go5LdQEw-iDuxFb4C0hw",
          "videoOwnerChannelTitle": "SBS TV동물농장x애니멀봐"
         }
        },
        {
         "contentDetails": {
          "videoId": "CiO0o20qo0I",
          "videoPublishedAt": "2022-09-21T23:00:08Z"
         },
         "etag": "XCR52EVD1Ugz6xyWWrZJCcq9l-o",
         "id": "VVUyMmdvNUxkUUV3LWlEdXhGYjRDMGh3LkNpTzBvMjBxbzBJ",
         "kind": "youtube#playlistItem",
         "snippet": {
          "channelId": "UC22go5LdQEw-iDuxFb4C0hw",
          "channelTitle": "SBS TV동물농장x애니멀봐",
          "description": "몸이 불편한 아저씨 곁을 지키는 강아지 ‘진돌이’\n아저씨의 손과 발이 되어주며, 보디개드 역할 열심히 수행 중! \n\n#집에서함께애니멀봐 #든든한보디개드 #아저씨의행복\n-------------------------------------------------\n애니멀봐와 한배타고⛵\n☞ https://goo.gl/WL9mGy\n\n강아지 더 보기🐶\n☞ https://youtu.be/sEtUYczN_GM\n\n아님 다른 동물 더 보고나서🦝\n☞ https://youtu.be/xb8DHKWFSvI\n\n[애니멀봐]와 베프되기\n　페이스북: https://www.facebook.com/sbstvanimal\n　인스타그램: https://www.instagram.com/sbsanimal\n　트위터: https://twitter.com/sbsyang\n\n-------------------------------------------------\n[Credit Music♪]\nㆍMusic provided by 브금대통령\n　- I Wanna be a Rockstar ( https://bit.ly/3BBAV6x )\n　- 그렇게 어른이 되고 ( https://bit.ly/3BubUdn )\n　- 맛춤뻡빌런 ( https://bit.ly/3f9429G )\n　- 소개팅 가는길 ( https://bit.ly/3DDtBtt )",
          "playlistId": "UU22go5LdQEw-iDuxFb4C0hw",
          "position": 1,
          "publishedAt": "2022-09-21T23:00:08Z",
          "resourceId": {
           "kind": "youtube#video",
           "videoId": "CiO0o20qo0I"
          },
          "thumbnails": {
           "default": {
            "height": 90,
            "url": "https://i.ytimg.com/vi/CiO0o20qo0I/default.jpg",
            "width": 120
           },
           "high": {
            "height": 360,
            "url": "https://i.ytimg.com/vi/CiO0o20qo0I/hqdefault.jpg",
            "width": 480
           },
           "maxres": {
            "height": 720,
            "url": "https://i.ytimg.com/vi/CiO0o20qo0I/maxresdefault.jpg",
            "width": 1280
           },
           "medium": {
            "height": 180,
            "url": "https://i.ytimg.com/vi/CiO0o20qo0I/mqdefault.jpg",
            "width": 320
           },
           "standard": {
            "height": 480,
            "url": "https://i.ytimg.com/vi/CiO0o20qo0I/sddefault.jpg",
            "width": 640
           }
          },
          "title": "한 강아지 덕분에 25년 만에 어머니를 만난  남자.. ㅣA Dog Acted As A Man’s Arms And Legs",
          "videoOwnerChannelId": "UC22go5LdQEw-iDuxFb4C0hw",
          "videoOwnerChannelTitle": "SBS TV동물농장x애니멀봐"
         }
        },
        {
         "contentDetails": {
          "videoId": "1WXinqCkyek",
          "videoPublishedAt": "2022-09-21T08:00:02Z"
         },
         "etag": "Qy9pwtfxNH-LpftpoxNkVe3QSik",
         "id": "VVUyMmdvNUxkUUV3LWlEdXhGYjRDMGh3LjFXWGlucUNreWVr",
         "kind": "youtube#playlistItem",
         "snippet": {
          "channelId": "UC22go5LdQEw-iDuxFb4C0hw",
          "channelTitle": "SBS TV동물농장x애니멀봐",
          "description": "제 1회 애니멀봐 배 귀여워서 기절대회 [오마이독]\n반려견과 휴대폰만 있다면 누구나 지원 가능한 부분.\n\n오마이독😱 참가 지원 하러가기 ⬇⬇⬇\nClick to apply for Oh My DOG participation ⬇⬇⬇\nhttps://forms.gle/U5J52P7prCvjTcDC7\n\n오마이독 참가 지원 선착순 100명에게는\n밥 맛이 기절할 만큼 좋은 철원 오대쌀 10kg를 드립니다 🍚\n\n✔참가 자격\n* 내가 귀여운 걸로' 왈'좀 한다는 전국의 모든 강아지들\n* 반려견과 휴대폰이 있는 집사라면 누구든지!\n* 반려동물등록이 완료된 강아지\n (🐾반려동물 등록하러 가기 https://ypet.co.kr/ypet/shop/animal.php)\n\n\n✔참가 방법\n* 참가 지원서 작성\n* 마이독 자기소개+개인기 or 가장 매력적인 모습이 담긴 영상 제출\n\n🎞 영상 길이는 최대 2분!\n🤳 촬영은 오직 휴대폰으로! (각종 필터 및 조명 효과 댓츠 노노우)\n\n\n✔지원 기간\n9월 15일(목)-9월 29일(목) 낮 12시까지\n\n\n#집에서함께애니멀봐 #오마이독 #지금바로지원하세요\n-------------------------------------------------\n애니멀봐와 한배타고⛵\n☞ https://goo.gl/WL9mGy\n\n심쿵유발 강아지 더 보기🐶\n☞ https://youtu.be/82ZsyXgxuwE\n\n아님 다른 동물 더 보고나서🐴\n☞ https://youtu.be/daYahm_6mIs\n\n[애니멀봐]와 베프되기\n　페이스북: https://www.facebook.com/sbstvanimal\n　인스타그램: https://www.instagram.com/sbsanimal\n　트위터: https://twitter.com/sbsyang\n\n-------------------------------------------------\n[Credit Music♪]\nㆍMusic provided by 브금대통령\n　- 도둑의 계획 ( https://bit.ly/3dqbLjf )",
          "playlistId": "UU22go5LdQEw-iDuxFb4C0hw",
          "position": 2,
          "publishedAt": "2022-09-21T08:00:02Z",
          "resourceId": {
           "kind": "youtube#video",
           "videoId": "1WXinqCkyek"
          },
          "thumbnails": {
           "default": {
            "height": 90,
            "url": "https://i.ytimg.com/vi/1WXinqCkyek/default.jpg",
            "width": 120
           },
           "high": {
            "height": 360,
            "url": "https://i.ytimg.com/vi/1WXinqCkyek/hqdefault.jpg",
            "width": 480
           },
           "maxres": {
            "height": 720,
            "url": "https://i.ytimg.com/vi/1WXinqCkyek/maxresdefault.jpg",
            "width": 1280
           },
           "medium": {
            "height": 180,
            "url": "https://i.ytimg.com/vi/1WXinqCkyek/mqdefault.jpg",
            "width": 320
           },
           "standard": {
            "height": 480,
            "url": "https://i.ytimg.com/vi/1WXinqCkyek/sddefault.jpg",
            "width": 640
           }
          },
          "title": "💰1등 상금 1000만원💰 동엽신이 묻습니다. 아직도 지원 안하셨어요?",
          "videoOwnerChannelId": "UC22go5LdQEw-iDuxFb4C0hw",
          "videoOwnerChannelTitle": "SBS TV동물농장x애니멀봐"
         }
        },
        {
         "contentDetails": {
          "videoId": "CaI5WGxM5Ig",
          "videoPublishedAt": "2022-09-20T23:00:04Z"
         },
         "etag": "Ed1eABo7xFPpOHhYZ8kVIHxmoPI",
         "id": "VVUyMmdvNUxkUUV3LWlEdXhGYjRDMGh3LkNhSTVXR3hNNUln",
         "kind": "youtube#playlistItem",
         "snippet": {
          "channelId": "UC22go5LdQEw-iDuxFb4C0hw",
          "channelTitle": "SBS TV동물농장x애니멀봐",
          "description": "＂ 몸집이 작고 가볍다고 생명의 무게가 가벼운 건 아니잖아요 ＂\n생사의 갈림길에 선 동물들 곁엔 그들이 있다..\n\n#집에서함께애니멀봐 #동물들의생명을지키는 #나는VETMAN이다\n-------------------------------------------------\n애니멀봐와 한배타고⛵\n☞ https://goo.gl/WL9mGy\n\n생명을 살리는 수의사 더 보기🩺\n☞ https://youtu.be/vE4smONqj3c\n\n아님 다른 동물 더 보고나서🦁\n☞ https://youtu.be/Nu87o5AgcoY\n\n[애니멀봐]와 베프되기\n　페이스북: https://www.facebook.com/sbstvanimal\n　인스타그램: https://www.instagram.com/sbsanimal\n　트위터: https://twitter.com/sbsyang",
          "playlistId": "UU22go5LdQEw-iDuxFb4C0hw",
          "position": 3,
          "publishedAt": "2022-09-20T23:00:04Z",
          "resourceId": {
           "kind": "youtube#video",
           "videoId": "CaI5WGxM5Ig"
          },
          "thumbnails": {
           "default": {
            "height": 90,
            "url": "https://i.ytimg.com/vi/CaI5WGxM5Ig/default.jpg",
            "width": 120
           },
           "high": {
            "height": 360,
            "url": "https://i.ytimg.com/vi/CaI5WGxM5Ig/hqdefault.jpg",
            "width": 480
           },
           "maxres": {
            "height": 720,
            "url": "https://i.ytimg.com/vi/CaI5WGxM5Ig/maxresdefault.jpg",
            "width": 1280
           },
           "medium": {
            "height": 180,
            "url": "https://i.ytimg.com/vi/CaI5WGxM5Ig/mqdefault.jpg",
            "width": 320
           },
           "standard": {
            "height": 480,
            "url": "https://i.ytimg.com/vi/CaI5WGxM5Ig/sddefault.jpg",
            "width": 640
           }
          },
          "title": "이 고슴도치는 잠시 후 태어나 처음으로 큰 일을 겪게 됩니다ㅣHedgehog Is Facing The Biggest Surgery In Its Life",
          "videoOwnerChannelId": "UC22go5LdQEw-iDuxFb4C0hw",
          "videoOwnerChannelTitle": "SBS TV동물농장x애니멀봐"
         }
        },
        {
         "contentDetails": {
          "videoId": "xb8DHKWFSvI",
          "videoPublishedAt": "2022-09-19T23:00:24Z"
         },
         "etag": "7CXPRVGCu1D_1VFhOdUfwBpgpSs",
         "id": "VVUyMmdvNUxkUUV3LWlEdXhGYjRDMGh3LnhiOERIS1dGU3ZJ",
         "kind": "youtube#playlistItem",
         "snippet": {
          "channelId": "UC22go5LdQEw-iDuxFb4C0hw",
          "channelTitle": "SBS TV동물농장x애니멀봐",
          "description": "애니멀봐 첫 오리지널 발행본 \n\n[나는 새끼다] 6호 새끼 - 라쿤 -\n우리는 태어난 지 31일 된 라쿤을 밀착취재 해보았다.\n\n#집에서함께애니멀봐 #나는새끼다 #새끼라쿤\n-------------------------------------------------\n애니멀봐와 한배타고⛵\n☞ https://goo.gl/WL9mGy\n\n라쿤 더 보기🦝\n☞ https://youtu.be/UJFYxMt-C4c\n\n아님 다른 동물 더 보고나서😼\n☞ https://youtu.be/rL1mukUdxlk\n\n[애니멀봐]와 베프되기\n　페이스북: https://www.facebook.com/sbstvanimal\n　인스타그램: https://www.instagram.com/sbsanimal\n　트위터: https://twitter.com/sbsyang",
          "playlistId": "UU22go5LdQEw-iDuxFb4C0hw",
          "position": 4,
          "publishedAt": "2022-09-19T23:00:24Z",
          "resourceId": {
           "kind": "youtube#video",
           "videoId": "xb8DHKWFSvI"
          },
          "thumbnails": {
           "default": {
            "height": 90,
            "url": "https://i.ytimg.com/vi/xb8DHKWFSvI/default.jpg",
            "width": 120
           },
           "high": {
            "height": 360,
            "url": "https://i.ytimg.com/vi/xb8DHKWFSvI/hqdefault.jpg",
            "width": 480
           },
           "maxres": {
            "height": 720,
            "url": "https://i.ytimg.com/vi/xb8DHKWFSvI/maxresdefault.jpg",
            "width": 1280
           },
           "medium": {
            "height": 180,
            "url": "https://i.ytimg.com/vi/xb8DHKWFSvI/mqdefault.jpg",
            "width": 320
           },
           "standard": {
            "height": 480,
            "url": "https://i.ytimg.com/vi/xb8DHKWFSvI/sddefault.jpg",
            "width": 640
           }
          },
          "title": "나는 태어난 지 31일 된 라쿤 새끼다 [애니멀봐 나새끼 6호]ㅣI’m A Month Old Baby Raccoon",
          "videoOwnerChannelId": "UC22go5LdQEw-iDuxFb4C0hw",
          "videoOwnerChannelTitle": "SBS TV동물농장x애니멀봐"
         }
        }
       ],
       "kind": "youtube#playlistItemListResponse",
       "nextPageToken": "EAAaBlBUOkNBVQ",
       "pageInfo": {
        "resultsPerPage": 5,
        "totalResults": 3717
       }
      },
      "text/plain": [
       "<IPython.core.display.JSON object>"
      ]
     },
     "execution_count": 26,
     "metadata": {
      "application/json": {
       "expanded": false,
       "root": "root"
      }
     },
     "output_type": "execute_result"
    }
   ],
   "source": [
    "request = youtube.playlistItems().list(\n",
    "        part=\"snippet,contentDetails\",\n",
    "        playlistId='UU22go5LdQEw-iDuxFb4C0hw'\n",
    ")\n",
    "response = request.execute()\n",
    "\n",
    "JSON(response)"
   ]
  },
  {
   "cell_type": "code",
   "execution_count": 46,
   "id": "f01751bb-4065-4ee0-ae93-afdc4f2f4567",
   "metadata": {},
   "outputs": [],
   "source": [
    "\n",
    "def get_video_details(youtube, video_ids):\n",
    "    \"\"\"\n",
    "    Get video statistics of all videos with given IDs\n",
    "    Params:\n",
    "    \n",
    "    youtube: the build object from googleapiclient.discovery\n",
    "    video_ids: list of video IDs\n",
    "    \n",
    "    Returns:\n",
    "    Dataframe with statistics of videos, i.e.:\n",
    "        'channelTitle', 'title', 'description', 'tags', 'publishedAt'\n",
    "        'viewCount', 'likeCount', 'favoriteCount', 'commentCount'\n",
    "        'duration', 'definition', 'caption'\n",
    "    \"\"\"\n",
    "        \n",
    "    all_video_info = []\n",
    "    \n",
    "    for i in range(0, len(video_ids), 50):\n",
    "        request = youtube.videos().list(\n",
    "            part=\"snippet,contentDetails,statistics\",\n",
    "            id=','.join(video_ids[i:i+50])\n",
    "        )\n",
    "        response = request.execute() \n",
    "\n",
    "        for video in response['items']:\n",
    "            stats_to_keep = {'snippet': ['channelTitle', 'title', 'description', 'tags', 'publishedAt'],\n",
    "                             'statistics': ['viewCount', 'likeCount', 'favouriteCount', 'commentCount'],\n",
    "                             'contentDetails': ['duration', 'definition', 'caption']\n",
    "                            }\n",
    "            video_info = {}\n",
    "            video_info['video_id'] = video['id']\n",
    "\n",
    "            for k in stats_to_keep.keys():\n",
    "                for v in stats_to_keep[k]:\n",
    "                    try:\n",
    "                        video_info[v] = video[k][v]\n",
    "                    except:\n",
    "                        video_info[v] = None\n",
    "\n",
    "            all_video_info.append(video_info)"
   ]
  },
  {
   "cell_type": "code",
   "execution_count": 49,
   "id": "0aed8eb9-b961-48be-899e-df1c6fbc0385",
   "metadata": {},
   "outputs": [],
   "source": [
    "video_df = get_video_details(youtube, video_ids)"
   ]
  },
  {
   "cell_type": "code",
   "execution_count": 50,
   "id": "c4c7155f-9171-4047-8834-547d47664570",
   "metadata": {},
   "outputs": [],
   "source": [
    "video_df"
   ]
  },
  {
   "cell_type": "code",
   "execution_count": null,
   "id": "939fbbac-8ff8-4d2a-9cc7-37cf8a1fc861",
   "metadata": {},
   "outputs": [],
   "source": []
  }
 ],
 "metadata": {
  "kernelspec": {
   "display_name": "Python 3 (ipykernel)",
   "language": "python",
   "name": "python3"
  },
  "language_info": {
   "codemirror_mode": {
    "name": "ipython",
    "version": 3
   },
   "file_extension": ".py",
   "mimetype": "text/x-python",
   "name": "python",
   "nbconvert_exporter": "python",
   "pygments_lexer": "ipython3",
   "version": "3.10.6"
  }
 },
 "nbformat": 4,
 "nbformat_minor": 5
}
